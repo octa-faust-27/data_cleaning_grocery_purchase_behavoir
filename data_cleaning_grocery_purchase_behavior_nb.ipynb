{
 "cells": [
  {
   "cell_type": "markdown",
   "metadata": {
    "id": "3Xg_RQfnafXz"
   },
   "source": [
    "# ¡Llena ese carrito!"
   ]
  },
  {
   "cell_type": "markdown",
   "metadata": {
    "id": "mhIvmmkW414q"
   },
   "source": [
    "# Introducción\n",
    "\n",
    "Instacart es una plataforma de entregas de comestibles donde la clientela puede registrar un pedido y hacer que se lo entreguen, similar a Uber Eats y Door Dash.\n",
    "El conjunto de datos que te hemos proporcionado tiene modificaciones del original. Redujimos el tamaño del conjunto para que tus cálculos se hicieran más rápido e introdujimos valores ausentes y duplicados. Tuvimos cuidado de conservar las distribuciones de los datos originales cuando hicimos los cambios.\n",
    "\n",
    "Debes completar tres pasos. Para cada uno de ellos, escribe una breve introducción que refleje con claridad cómo pretendes resolver cada paso, y escribe párrafos explicatorios que justifiquen tus decisiones al tiempo que avanzas en tu solución.  También escribe una conclusión que resuma tus hallazgos y elecciones.\n"
   ]
  },
  {
   "cell_type": "markdown",
   "metadata": {
    "id": "3MbyzpOQZ5Or"
   },
   "source": [
    "## Diccionario de datos\n",
    "\n",
    "Hay cinco tablas en el conjunto de datos, y tendrás que usarlas todas para hacer el preprocesamiento de datos y el análisis exploratorio de datos. A continuación se muestra un diccionario de datos que enumera las columnas de cada tabla y describe los datos que contienen.\n",
    "\n",
    "- `instacart_orders.csv`: cada fila corresponde a un pedido en la aplicación Instacart.\n",
    "    - `'order_id'`: número de ID que identifica de manera única cada pedido.\n",
    "    - `'user_id'`: número de ID que identifica de manera única la cuenta de cada cliente.\n",
    "    - `'order_number'`: el número de veces que este cliente ha hecho un pedido.\n",
    "    - `'order_dow'`: día de la semana en que se hizo el pedido (0 si es domingo).\n",
    "    - `'order_hour_of_day'`: hora del día en que se hizo el pedido.\n",
    "    - `'days_since_prior_order'`: número de días transcurridos desde que este cliente hizo su pedido anterior.\n",
    "- `products.csv`: cada fila corresponde a un producto único que pueden comprar los clientes.\n",
    "    - `'product_id'`: número ID que identifica de manera única cada producto.\n",
    "    - `'product_name'`: nombre del producto.\n",
    "    - `'aisle_id'`: número ID que identifica de manera única cada categoría de pasillo de víveres.\n",
    "    - `'department_id'`: número ID que identifica de manera única cada departamento de víveres.\n",
    "- `order_products.csv`: cada fila corresponde a un artículo pedido en un pedido.\n",
    "    - `'order_id'`: número de ID que identifica de manera única cada pedido.\n",
    "    - `'product_id'`: número ID que identifica de manera única cada producto.\n",
    "    - `'add_to_cart_order'`: el orden secuencial en el que se añadió cada artículo en el carrito.\n",
    "    - `'reordered'`: 0 si el cliente nunca ha pedido este producto antes, 1 si lo ha pedido.\n",
    "- `aisles.csv`\n",
    "    - `'aisle_id'`: número ID que identifica de manera única cada categoría de pasillo de víveres.\n",
    "    - `'aisle'`: nombre del pasillo.\n",
    "- `departments.csv`\n",
    "    - `'department_id'`: número ID que identifica de manera única cada departamento de víveres.\n",
    "    - `'department'`: nombre del departamento."
   ]
  },
  {
   "cell_type": "markdown",
   "metadata": {
    "id": "n3Ha_cNSZ8lK"
   },
   "source": [
    "# Paso 1. Descripción de los datos\n",
    "\n",
    "Lee los archivos de datos (`/datasets/instacart_orders.csv`, `/datasets/products.csv`, `/datasets/aisles.csv`, `/datasets/departments.csv` y `/datasets/order_products.csv`) con `pd.read_csv()` usando los parámetros adecuados para leer los datos correctamente. Verifica la información para cada DataFrame creado.\n"
   ]
  },
  {
   "cell_type": "markdown",
   "metadata": {
    "id": "OmlQPLlyaAfR"
   },
   "source": [
    "## Plan de solución\n",
    "\n",
    "Escribe aquí tu plan de solución para el Paso 1. Descripción de los datos."
   ]
  },
  {
   "cell_type": "code",
   "execution_count": 1,
   "metadata": {
    "id": "fbf1adab"
   },
   "outputs": [],
   "source": [
    "# importar librerías\n",
    "import pandas as pd"
   ]
  },
  {
   "cell_type": "code",
   "execution_count": 2,
   "metadata": {
    "id": "ad36396d"
   },
   "outputs": [],
   "source": [
    "# leer conjuntos de datos en los DataFrames\n",
    "df_io = pd.read_csv(r'C:\\Users\\octav\\Desktop\\2. Objetivos especificos\\9. Programación\\DA\\Proyecto\\instacart_orders.csv', sep = ';') \n",
    "df_p = pd.read_csv(r'C:\\Users\\octav\\Desktop\\2. Objetivos especificos\\9. Programación\\DA\\Proyecto\\products.csv', sep = ';')\n",
    "df_ais = pd.read_csv(r'C:\\Users\\octav\\Desktop\\2. Objetivos especificos\\9. Programación\\DA\\Proyecto\\aisles.csv', sep = ';')\n",
    "df_dep = pd.read_csv(r'C:\\Users\\octav\\Desktop\\2. Objetivos especificos\\9. Programación\\DA\\Proyecto\\departments.csv', sep = ';')\n",
    "df_op = pd.read_csv(r'C:\\Users\\octav\\Desktop\\2. Objetivos especificos\\9. Programación\\DA\\Proyecto\\order_products.csv', sep = ';')"
   ]
  },
  {
   "cell_type": "code",
   "execution_count": 3,
   "metadata": {
    "id": "ad6a1efa"
   },
   "outputs": [
    {
     "name": "stdout",
     "output_type": "stream",
     "text": [
      "<class 'pandas.core.frame.DataFrame'>\n",
      "RangeIndex: 478967 entries, 0 to 478966\n",
      "Data columns (total 6 columns):\n",
      " #   Column                  Non-Null Count   Dtype  \n",
      "---  ------                  --------------   -----  \n",
      " 0   order_id                478967 non-null  int64  \n",
      " 1   user_id                 478967 non-null  int64  \n",
      " 2   order_number            478967 non-null  int64  \n",
      " 3   order_dow               478967 non-null  int64  \n",
      " 4   order_hour_of_day       478967 non-null  int64  \n",
      " 5   days_since_prior_order  450148 non-null  float64\n",
      "dtypes: float64(1), int64(5)\n",
      "memory usage: 21.9 MB\n"
     ]
    }
   ],
   "source": [
    "# mostrar información del DataFrame\n",
    "df_io.info()"
   ]
  },
  {
   "cell_type": "code",
   "execution_count": 4,
   "metadata": {
    "id": "5130e05e"
   },
   "outputs": [
    {
     "name": "stdout",
     "output_type": "stream",
     "text": [
      "<class 'pandas.core.frame.DataFrame'>\n",
      "RangeIndex: 49694 entries, 0 to 49693\n",
      "Data columns (total 4 columns):\n",
      " #   Column         Non-Null Count  Dtype \n",
      "---  ------         --------------  ----- \n",
      " 0   product_id     49694 non-null  int64 \n",
      " 1   product_name   48436 non-null  object\n",
      " 2   aisle_id       49694 non-null  int64 \n",
      " 3   department_id  49694 non-null  int64 \n",
      "dtypes: int64(3), object(1)\n",
      "memory usage: 1.5+ MB\n"
     ]
    }
   ],
   "source": [
    "# mostrar información del DataFrame\n",
    "df_p.info()"
   ]
  },
  {
   "cell_type": "code",
   "execution_count": 5,
   "metadata": {
    "id": "d8370c05"
   },
   "outputs": [
    {
     "name": "stdout",
     "output_type": "stream",
     "text": [
      "<class 'pandas.core.frame.DataFrame'>\n",
      "RangeIndex: 134 entries, 0 to 133\n",
      "Data columns (total 2 columns):\n",
      " #   Column    Non-Null Count  Dtype \n",
      "---  ------    --------------  ----- \n",
      " 0   aisle_id  134 non-null    int64 \n",
      " 1   aisle     134 non-null    object\n",
      "dtypes: int64(1), object(1)\n",
      "memory usage: 2.2+ KB\n"
     ]
    }
   ],
   "source": [
    "# mostrar información del DataFrame\n",
    "df_ais.info()"
   ]
  },
  {
   "cell_type": "code",
   "execution_count": 6,
   "metadata": {
    "id": "59e2090f"
   },
   "outputs": [
    {
     "name": "stdout",
     "output_type": "stream",
     "text": [
      "<class 'pandas.core.frame.DataFrame'>\n",
      "RangeIndex: 21 entries, 0 to 20\n",
      "Data columns (total 2 columns):\n",
      " #   Column         Non-Null Count  Dtype \n",
      "---  ------         --------------  ----- \n",
      " 0   department_id  21 non-null     int64 \n",
      " 1   department     21 non-null     object\n",
      "dtypes: int64(1), object(1)\n",
      "memory usage: 464.0+ bytes\n"
     ]
    }
   ],
   "source": [
    "# mostrar información del DataFrame\n",
    "df_dep.info()"
   ]
  },
  {
   "cell_type": "code",
   "execution_count": 7,
   "metadata": {
    "id": "6fc81694"
   },
   "outputs": [
    {
     "name": "stdout",
     "output_type": "stream",
     "text": [
      "<class 'pandas.core.frame.DataFrame'>\n",
      "RangeIndex: 4545007 entries, 0 to 4545006\n",
      "Data columns (total 4 columns):\n",
      " #   Column             Dtype  \n",
      "---  ------             -----  \n",
      " 0   order_id           int64  \n",
      " 1   product_id         int64  \n",
      " 2   add_to_cart_order  float64\n",
      " 3   reordered          int64  \n",
      "dtypes: float64(1), int64(3)\n",
      "memory usage: 138.7 MB\n"
     ]
    }
   ],
   "source": [
    "# mostrar información del DataFrame\n",
    "df_op.info()\n",
    "#df_op.notnull().sum()"
   ]
  },
  {
   "cell_type": "markdown",
   "metadata": {
    "id": "t75BD19oaR5f"
   },
   "source": [
    "## Conclusiones\n",
    "\n",
    "Escribe aquí tus conclusiones intermedias sobre el Paso 1. Descripción de los datos.\n",
    "\n",
    "Todos los data frames se dividian por ';' por lo que se lee declarando sep=';', los data frames tienen los valores en cada columna salvo aquellos data frames con muchos renglones que su tipo de elemento es flotante (days_since_prior_order) y de objeto(product_name), que lleva a pensar que puede haber valores con 0 o de plano vacios. En el data frame para order product al ser muy extensa no mostraba la columna de conteo 'Non-Null Count', por lo que recurrí al método notnull y sum para contar los valores que no sean nulos comprobando que igualmente en elementos float64(add_to_cart_order) hay valores nulos. \n"
   ]
  },
  {
   "cell_type": "markdown",
   "metadata": {
    "id": "8RJHqxVmaVsF"
   },
   "source": [
    "# Paso 2. Preprocesamiento de los datos\n",
    "\n",
    "Preprocesa los datos de la siguiente manera:\n",
    "\n",
    "- Verifica y corrige los tipos de datos (por ejemplo, asegúrate de que las columnas de ID sean números enteros).\n",
    "- Identifica y completa los valores ausentes.\n",
    "- Identifica y elimina los valores duplicados.\n",
    "\n",
    "Asegúrate de explicar qué tipos de valores ausentes y duplicados encontraste, cómo los completaste o eliminaste y por qué usaste esos métodos. ¿Por qué crees que estos valores ausentes y duplicados pueden haber estado presentes en el conjunto de datos?"
   ]
  },
  {
   "cell_type": "markdown",
   "metadata": {
    "id": "p6poABZQaZYb"
   },
   "source": [
    "## Plan de solución\n",
    "\n",
    "Escribe aquí tu plan para el Paso 2. Preprocesamiento de los datos.\n",
    "\n",
    "En instacart_orders\n",
    "Revisaría si se repiten los Order_id de cada pedido, para verificar que no se repitan. Si se repiten probablemente porque en el número de veces que el cliente ha hecho un pedido se actualice con cada pedido. \n",
    "\n",
    "En products, aisles y departments\n",
    "Revisaría si se repiten el id de identificación única. Si se repite alguno significa que se duplicó el ID en alguno de los dataframes.\n",
    "\n",
    "En order_products\n",
    "Revisar el id unico de cada pedido, el orden secuencia pudo haber duplicado valores si se hicieron varios pedidos."
   ]
  },
  {
   "cell_type": "markdown",
   "metadata": {
    "id": "07357848-dc64-4156-9cc3-01ff4365226d"
   },
   "source": [
    "## Encuentra y elimina los valores duplicados (y describe cómo tomaste tus decisiones)."
   ]
  },
  {
   "cell_type": "markdown",
   "metadata": {
    "id": "f179f0a9"
   },
   "source": [
    "### `orders` data frame"
   ]
  },
  {
   "cell_type": "code",
   "execution_count": 8,
   "metadata": {
    "id": "b99297a5-405a-463d-8535-9adc3da4ad74"
   },
   "outputs": [
    {
     "name": "stdout",
     "output_type": "stream",
     "text": [
      "15\n",
      "        order_id  user_id  order_number  order_dow  order_hour_of_day  \\\n",
      "145574    794638    50898            24          3                  2   \n",
      "223105   2160484   107525            16          3                  2   \n",
      "230807   1918001   188546            14          3                  2   \n",
      "266232   1782114   106752             1          3                  2   \n",
      "273805   1112182   202304            84          3                  2   \n",
      "284038   2845099    31189            11          3                  2   \n",
      "311713   1021560    53767             3          3                  2   \n",
      "321100    408114    68324             4          3                  2   \n",
      "323900   1919531   191501            32          3                  2   \n",
      "345917   2232988    82565             1          3                  2   \n",
      "371905    391768    57671            19          3                  2   \n",
      "394347    467134    63189            21          3                  2   \n",
      "411408   1286742   183220            48          3                  2   \n",
      "415163   2282673    86751            49          3                  2   \n",
      "441599   2125197    14050            48          3                  2   \n",
      "\n",
      "        days_since_prior_order  \n",
      "145574                     2.0  \n",
      "223105                    30.0  \n",
      "230807                    16.0  \n",
      "266232                     NaN  \n",
      "273805                     6.0  \n",
      "284038                     7.0  \n",
      "311713                     9.0  \n",
      "321100                    18.0  \n",
      "323900                     7.0  \n",
      "345917                     NaN  \n",
      "371905                    10.0  \n",
      "394347                     2.0  \n",
      "411408                     4.0  \n",
      "415163                     2.0  \n",
      "441599                     3.0  \n",
      "[391768, 408114, 467134, 794638, 1021560, 1112182, 1286742, 1782114, 1918001, 1919531, 2125197, 2160484, 2232988, 2282673, 2845099]\n"
     ]
    }
   ],
   "source": [
    "# Revisa si hay pedidos duplicados\n",
    "# Encontrar la suma total de lineas duplicadas.\n",
    "print(df_io.duplicated().sum())\n",
    "#Analizar las lineas duplicadas para encontrar un patróm en los pedidos duplicados.\n",
    "print(df_io[df_io.duplicated()])\n",
    "#Guardar una variable con el valor de las id's de las ordenes duplicadas.\n",
    "order_dub = sorted(df_io[df_io.duplicated()]['order_id'])\n",
    "print(order_dub)"
   ]
  },
  {
   "cell_type": "markdown",
   "metadata": {
    "id": "PEkwUX_gvt5A"
   },
   "source": [
    "¿Tienes líneas duplicadas? Si sí, ¿qué tienen en común?"
   ]
  },
  {
   "cell_type": "code",
   "execution_count": 9,
   "metadata": {
    "id": "0d44de5d"
   },
   "outputs": [
    {
     "name": "stdout",
     "output_type": "stream",
     "text": [
      "[191, 222962, 238782, 248760, 264348, 272079, 284770, 332561, 350018, 353088, 382357, 391768, 391768, 401662, 404972, 408114, 408114, 449909, 467134, 467134, 494201, 508008, 522496, 553049, 577527, 592699, 593561, 596062, 632042, 690242, 736983, 738145, 774488, 781491, 794638, 794638, 819551, 851025, 898850, 908991, 910166, 1021560, 1021560, 1090993, 1099720, 1112182, 1112182, 1121635, 1135733, 1171914, 1211189, 1219044, 1286742, 1286742, 1353704, 1378085, 1395560, 1399416, 1453300, 1477271, 1496645, 1525566, 1542137, 1554296, 1645769, 1680532, 1725788, 1725841, 1761462, 1782114, 1782114, 1833869, 1918001, 1918001, 1919531, 1919531, 1958044, 1983940, 2025848, 2027608, 2061573, 2125197, 2125197, 2132617, 2160484, 2160484, 2190225, 2218116, 2232988, 2232988, 2282673, 2282673, 2291746, 2425457, 2429224, 2438538, 2547119, 2592344, 2593771, 2602339, 2625221, 2665629, 2677202, 2725375, 2766110, 2767450, 2800415, 2845099, 2845099, 2846262, 2851380, 2893503, 2908154, 2934579, 3149961, 3155527, 3226444, 3275652, 3286161, 3384021, 3389820]\n",
      "\n",
      "        order_id  user_id  order_number  order_dow  order_hour_of_day  \\\n",
      "4838     2766110   162084            41          3                  2   \n",
      "5156     2190225   138285            18          3                  2   \n",
      "15506     553049    58599            13          3                  2   \n",
      "18420     382357   120200            19          3                  2   \n",
      "24691     690242    77357             2          3                  2   \n",
      "...          ...      ...           ...        ...                ...   \n",
      "457013   3384021    14881             6          3                  2   \n",
      "458816    910166   164782            18          3                  2   \n",
      "459635   1680532   106435             6          3                  2   \n",
      "468324    222962    54979            59          3                  2   \n",
      "477526   2592344    46860            38          3                  2   \n",
      "\n",
      "        days_since_prior_order  \n",
      "4838                      16.0  \n",
      "5156                      11.0  \n",
      "15506                      7.0  \n",
      "18420                     11.0  \n",
      "24691                      9.0  \n",
      "...                        ...  \n",
      "457013                    30.0  \n",
      "458816                     4.0  \n",
      "459635                    21.0  \n",
      "468324                     3.0  \n",
      "477526                     3.0  \n",
      "\n",
      "[121 rows x 6 columns]\n",
      "\n",
      "        order_id  user_id  order_number  order_dow  order_hour_of_day  \\\n",
      "30371    1918001   188546            14          3                  2   \n",
      "99462     794638    50898            24          3                  2   \n",
      "119251    408114    68324             4          3                  2   \n",
      "142258   2845099    31189            11          3                  2   \n",
      "145574    794638    50898            24          3                  2   \n",
      "164581   1112182   202304            84          3                  2   \n",
      "200059   1782114   106752             1          3                  2   \n",
      "204042   2125197    14050            48          3                  2   \n",
      "215294   2160484   107525            16          3                  2   \n",
      "223105   2160484   107525            16          3                  2   \n",
      "230807   1918001   188546            14          3                  2   \n",
      "242618   1021560    53767             3          3                  2   \n",
      "250626    467134    63189            21          3                  2   \n",
      "257934   1919531   191501            32          3                  2   \n",
      "259636   2282673    86751            49          3                  2   \n",
      "266232   1782114   106752             1          3                  2   \n",
      "273805   1112182   202304            84          3                  2   \n",
      "284038   2845099    31189            11          3                  2   \n",
      "311713   1021560    53767             3          3                  2   \n",
      "314427   1286742   183220            48          3                  2   \n",
      "321100    408114    68324             4          3                  2   \n",
      "323900   1919531   191501            32          3                  2   \n",
      "324868   2232988    82565             1          3                  2   \n",
      "345917   2232988    82565             1          3                  2   \n",
      "354993    391768    57671            19          3                  2   \n",
      "371905    391768    57671            19          3                  2   \n",
      "394347    467134    63189            21          3                  2   \n",
      "411408   1286742   183220            48          3                  2   \n",
      "415163   2282673    86751            49          3                  2   \n",
      "441599   2125197    14050            48          3                  2   \n",
      "\n",
      "        days_since_prior_order  \n",
      "30371                     16.0  \n",
      "99462                      2.0  \n",
      "119251                    18.0  \n",
      "142258                     7.0  \n",
      "145574                     2.0  \n",
      "164581                     6.0  \n",
      "200059                     NaN  \n",
      "204042                     3.0  \n",
      "215294                    30.0  \n",
      "223105                    30.0  \n",
      "230807                    16.0  \n",
      "242618                     9.0  \n",
      "250626                     2.0  \n",
      "257934                     7.0  \n",
      "259636                     2.0  \n",
      "266232                     NaN  \n",
      "273805                     6.0  \n",
      "284038                     7.0  \n",
      "311713                     9.0  \n",
      "314427                     4.0  \n",
      "321100                    18.0  \n",
      "323900                     7.0  \n",
      "324868                     NaN  \n",
      "345917                     NaN  \n",
      "354993                    10.0  \n",
      "371905                    10.0  \n",
      "394347                     2.0  \n",
      "411408                     4.0  \n",
      "415163                     2.0  \n",
      "441599                     3.0  \n",
      "\n",
      "30\n",
      "86751     2\n",
      "82565     2\n",
      "57671     2\n",
      "31189     2\n",
      "183220    2\n",
      "50898     2\n",
      "14050     2\n",
      "191501    2\n",
      "63189     2\n",
      "53767     2\n",
      "107525    2\n",
      "68324     2\n",
      "188546    2\n",
      "106752    2\n",
      "202304    2\n",
      "Name: user_id, dtype: int64\n"
     ]
    }
   ],
   "source": [
    "# Basándote en tus hallazgos,\n",
    "# Verifica todos los pedidos que se hicieron el miércoles a las 2:00 a.m.\n",
    "#Sí, la mayoría de los duplicados se hicieron el miércoles a las 2 am \n",
    "# Revisar \n",
    "# Crear una variable que tenga todos los pedidos que se hicieron el miércoles a las 2 am\n",
    "pedidos_mier_2 = df_io[(df_io['order_dow']==3) & (df_io['order_hour_of_day']==2)]\n",
    "# Ordenar los valores de id's order para observar si hay un patrón en los duplicados\n",
    "print(sorted(pedidos_mier_2['order_id']))\n",
    "print('')\n",
    "print(pedidos_mier_2)\n",
    "print('')\n",
    "# Use la variable order_dub con los id's orders duplicados para observar todos los pedidos repetidos.\n",
    "string_q = 'order_id in @order_dub'\n",
    "df_filtered = pedidos_mier_2.query(string_q)\n",
    "print(df_filtered)\n",
    "print('')\n",
    "# Use el método value counts en los id users para observar cuantas veces se duplicaron los valores duplicados.\n",
    "#Lo que me lleva a pensar que todas las entradas del miércoles a las 2 am se duplicaron 1 vez indistintamente del usuario.\n",
    "print(df_filtered['user_id'].value_counts().sum())\n",
    "print(df_filtered['user_id'].value_counts())\n",
    " "
   ]
  },
  {
   "cell_type": "markdown",
   "metadata": {
    "id": "vu2OWyoqwOx5"
   },
   "source": [
    "¿Qué sugiere este resultado?\n",
    "Que el pedido de ese día de duplicó 1 vez, afectando a 15 usuarios únicos."
   ]
  },
  {
   "cell_type": "code",
   "execution_count": 10,
   "metadata": {
    "id": "480563c7"
   },
   "outputs": [
    {
     "name": "stdout",
     "output_type": "stream",
     "text": [
      "        order_id  user_id  order_number  order_dow  order_hour_of_day  \\\n",
      "0        1515936   183418            11          6                 13   \n",
      "1        1690866   163593             5          5                 12   \n",
      "2        1454967    39980             4          5                 19   \n",
      "3        1768857    82516            56          0                 20   \n",
      "4        3007858   196724             2          4                 12   \n",
      "...          ...      ...           ...        ...                ...   \n",
      "478947   3210681     5617             5          1                 14   \n",
      "478948   3270802   112087             2          3                 13   \n",
      "478949    885349    82944            16          2                 11   \n",
      "478950    216274     4391             3          3                  8   \n",
      "478951   2071924     1730            18          1                 14   \n",
      "\n",
      "        days_since_prior_order  \n",
      "0                         30.0  \n",
      "1                          9.0  \n",
      "2                          2.0  \n",
      "3                         10.0  \n",
      "4                         17.0  \n",
      "...                        ...  \n",
      "478947                     7.0  \n",
      "478948                     6.0  \n",
      "478949                     6.0  \n",
      "478950                     8.0  \n",
      "478951                    15.0  \n",
      "\n",
      "[478952 rows x 6 columns]\n"
     ]
    }
   ],
   "source": [
    "# Elimina los pedidos duplicados\n",
    "df_io_sin_duplicados = df_io.drop_duplicates().reset_index(drop=True)\n",
    "print(df_io_sin_duplicados)"
   ]
  },
  {
   "cell_type": "code",
   "execution_count": 11,
   "metadata": {
    "id": "0b2396a2"
   },
   "outputs": [
    {
     "name": "stdout",
     "output_type": "stream",
     "text": [
      "0\n"
     ]
    }
   ],
   "source": [
    "# Vuelve a verificar si hay filas duplicadas\n",
    "new_df_io = df_io_sin_duplicados.duplicated().sum()\n",
    "print(new_df_io)"
   ]
  },
  {
   "cell_type": "code",
   "execution_count": 12,
   "metadata": {
    "id": "f6113ef1"
   },
   "outputs": [
    {
     "name": "stdout",
     "output_type": "stream",
     "text": [
      "0\n"
     ]
    }
   ],
   "source": [
    "# Vuelve a verificar únicamente si hay IDs duplicados de pedidos\n",
    "print(df_io_sin_duplicados['order_id'].duplicated().sum())"
   ]
  },
  {
   "cell_type": "markdown",
   "metadata": {
    "id": "5e8905ae"
   },
   "source": [
    "Describe brevemente tus hallazgos y lo que hiciste con ellos\n",
    "Me dispuse a analizar el dataframe de instacart_orders, encontre que los pedidos que corresponden al miércoles a las 2 am afectando a 15 usuarios diferentes pero todos con solo una copia, después de cerciorar que los duplicados tuvieran un patrón procedí a eliminar los duplicados."
   ]
  },
  {
   "cell_type": "markdown",
   "metadata": {
    "id": "45e6bc46"
   },
   "source": [
    "### `products` data frame"
   ]
  },
  {
   "cell_type": "code",
   "execution_count": 13,
   "metadata": {
    "id": "5f526b5b-8175-46fa-a0fd-441767d50e64"
   },
   "outputs": [
    {
     "name": "stdout",
     "output_type": "stream",
     "text": [
      "0\n"
     ]
    }
   ],
   "source": [
    "# Verifica si hay filas totalmente duplicadas\n",
    "df_p_duplicados = df_p.duplicated().sum()\n",
    "print(df_p_duplicados)"
   ]
  },
  {
   "cell_type": "code",
   "execution_count": 14,
   "metadata": {
    "id": "88daa4f4"
   },
   "outputs": [
    {
     "name": "stdout",
     "output_type": "stream",
     "text": [
      "49673\n"
     ]
    }
   ],
   "source": [
    "# Revisa únicamente si hay ID de departamentos duplicados\n",
    "df_p_duplicados_id_dep = df_p['department_id'].duplicated().sum()\n",
    "print(df_p_duplicados_id_dep)"
   ]
  },
  {
   "cell_type": "code",
   "execution_count": 15,
   "metadata": {
    "id": "c773f0bf"
   },
   "outputs": [
    {
     "name": "stdout",
     "output_type": "stream",
     "text": [
      "1361\n"
     ]
    }
   ],
   "source": [
    "# Revisa únicamente si hay nombres duplicados de productos (convierte los nombres a letras mayúsculas para compararlos mejor)\n",
    "df_p['product_name'] = df_p['product_name'].str.upper()\n",
    "print(df_p['product_name'].duplicated().sum())\n",
    "\n",
    "\n",
    "\n"
   ]
  },
  {
   "cell_type": "code",
   "execution_count": 16,
   "metadata": {
    "id": "01efd02e"
   },
   "outputs": [
    {
     "name": "stdout",
     "output_type": "stream",
     "text": [
      "104\n",
      "       product_id                                     product_name  aisle_id  \\\n",
      "2058         2059                                  BIOTIN 1000 MCG        47   \n",
      "5455         5456                 GREEN TEA WITH GINSENG AND HONEY        96   \n",
      "5558         5559                           CREAM OF MUSHROOM SOUP        69   \n",
      "7558         7559                        CINNAMON ROLLS WITH ICING       105   \n",
      "9037         9038                           AMERICAN CHEESE SLICES        21   \n",
      "...           ...                                              ...       ...   \n",
      "49689       49690                    HIGH PERFORMANCE ENERGY DRINK        64   \n",
      "49690       49691                    ORIGINAL PANCAKE & WAFFLE MIX       130   \n",
      "49691       49692  ORGANIC INSTANT OATMEAL LIGHT MAPLE BROWN SUGAR       130   \n",
      "49692       49693                           SPRING WATER BODY WASH       127   \n",
      "49693       49694                          BURRITO- STEAK & CHEESE        38   \n",
      "\n",
      "       department_id  \n",
      "2058              11  \n",
      "5455              20  \n",
      "5558              15  \n",
      "7558              13  \n",
      "9037              16  \n",
      "...              ...  \n",
      "49689              7  \n",
      "49690             14  \n",
      "49691             14  \n",
      "49692             11  \n",
      "49693              1  \n",
      "\n",
      "[104 rows x 4 columns]\n",
      "\n",
      "\n",
      "      product_id     product_name  aisle_id  department_id\n",
      "41            42  BIOTIN 1000 MCG        47             11\n",
      "2058        2059  BIOTIN 1000 MCG        47             11\n",
      "\n",
      "\n",
      "<class 'pandas.core.frame.DataFrame'>\n",
      "Int64Index: 1258 entries, 37 to 49668\n",
      "Data columns (total 4 columns):\n",
      " #   Column         Non-Null Count  Dtype \n",
      "---  ------         --------------  ----- \n",
      " 0   product_id     1258 non-null   int64 \n",
      " 1   product_name   0 non-null      object\n",
      " 2   aisle_id       1258 non-null   int64 \n",
      " 3   department_id  1258 non-null   int64 \n",
      "dtypes: int64(3), object(1)\n",
      "memory usage: 49.1+ KB\n"
     ]
    }
   ],
   "source": [
    "# Revisa si hay nombres duplicados de productos no faltantes\n",
    "# Se extraen los valores para los que si haya un valor en product_name\n",
    "df_p_pnf = df_p[~df_p['product_name'].isna()]\n",
    "# Se utiliza el método duplicated para sumar los duplicados de este data frame\n",
    "print(df_p_pnf['product_name'].duplicated().sum())\n",
    "#Se imprime los valores que se repiten\n",
    "print(df_p_pnf[df_p_pnf['product_name'].duplicated()])\n",
    "#Se imprime los valores de uno de los productos repetidos para observar si tienen similitudes.\n",
    "valor_id_2059 = df_p[df_p['product_name']=='BIOTIN 1000 MCG']\n",
    "print('\\n')\n",
    "print(valor_id_2059)\n",
    "print('\\n')\n",
    "df_p_na = df_p[df_p['product_name'].isna()]\n",
    "df_p_na.info()\n",
    "#Se podría cambiar el nombre de los productos sin nombre con el nombre de 'UNKNOWN'\n",
    "#df_p['product_name'] = df_p['product_name'].fillna('UNKNOWN')\n",
    "#Se serciora "
   ]
  },
  {
   "cell_type": "markdown",
   "metadata": {
    "id": "9da8d293"
   },
   "source": [
    "Describe brevemente tus hallazgos y lo que hiciste con ellos.\n",
    "Al analizar el duplicado completo de los nombres de producto nos dimos cuenta que los 1361 valores que arrojan se componen de 104 valores que bien tienen el mismo nombre pero tiene un product_id diferente, puesto que no conocemos cual id es el correcto mantendremos ambos productos. Y otras 1258 entradas con nada en su nombre, por lo que podríamos cambiar estos por algún parametro como 'unknown'"
   ]
  },
  {
   "cell_type": "markdown",
   "metadata": {
    "id": "60f30db1"
   },
   "source": [
    "### `departments` data frame"
   ]
  },
  {
   "cell_type": "code",
   "execution_count": 17,
   "metadata": {
    "id": "fb410ad4-0fbf-4b80-bb09-23fdea79afe3"
   },
   "outputs": [
    {
     "name": "stdout",
     "output_type": "stream",
     "text": [
      "0\n"
     ]
    }
   ],
   "source": [
    "# Revisa si hay filas totalmente duplicadas\n",
    "df_dep_duplicados = df_dep.duplicated().sum()\n",
    "print(df_dep_duplicados)"
   ]
  },
  {
   "cell_type": "code",
   "execution_count": 18,
   "metadata": {
    "id": "332b12bb"
   },
   "outputs": [
    {
     "name": "stdout",
     "output_type": "stream",
     "text": [
      "0\n"
     ]
    }
   ],
   "source": [
    "# Revisa únicamente si hay IDs duplicadas de productos\n",
    "df_dep_duplicados_id = df_dep['department_id'].duplicated().sum()\n",
    "print(df_dep_duplicados_id)"
   ]
  },
  {
   "cell_type": "markdown",
   "metadata": {
    "id": "bd30d78e"
   },
   "source": [
    "Describe brevemente tus hallazgos y lo que hiciste con ellos.\n",
    "Ningún departamente se repite completamente, de igual manera ningún id se repite, por lo que deje el dataframe sin cambios."
   ]
  },
  {
   "cell_type": "markdown",
   "metadata": {
    "id": "889349c1"
   },
   "source": [
    "### `aisles` data frame"
   ]
  },
  {
   "cell_type": "code",
   "execution_count": 19,
   "metadata": {
    "id": "9da89fb9-4679-40f5-ad0d-c34df753a3f8"
   },
   "outputs": [
    {
     "name": "stdout",
     "output_type": "stream",
     "text": [
      "0\n"
     ]
    }
   ],
   "source": [
    "# Revisa si hay filas totalmente duplicadas\n",
    "df_ais_duplicados = df_ais.duplicated().sum()\n",
    "print(df_ais_duplicados)"
   ]
  },
  {
   "cell_type": "code",
   "execution_count": 20,
   "metadata": {
    "id": "da7c2822"
   },
   "outputs": [
    {
     "name": "stdout",
     "output_type": "stream",
     "text": [
      "0\n"
     ]
    }
   ],
   "source": [
    "# Revisa únicamente si hay IDs duplicadas de pasillos\n",
    "df_ais_duplicados_id = df_ais['aisle_id'].duplicated().sum()\n",
    "print(df_ais_duplicados_id)"
   ]
  },
  {
   "cell_type": "markdown",
   "metadata": {
    "id": "ac63826f"
   },
   "source": [
    "Describe brevemente tus hallazgos y lo que hiciste con ellos."
   ]
  },
  {
   "cell_type": "markdown",
   "metadata": {
    "id": "274cd06a"
   },
   "source": [
    "### `order_products` data frame"
   ]
  },
  {
   "cell_type": "code",
   "execution_count": 21,
   "metadata": {
    "id": "52326689-84a8-4b8f-a881-7c68780f62c9"
   },
   "outputs": [
    {
     "name": "stdout",
     "output_type": "stream",
     "text": [
      "0\n"
     ]
    }
   ],
   "source": [
    "# Revisa si hay filas totalmente duplicadas\n",
    "df_op_duplicados = df_op.duplicated().sum()\n",
    "print(df_op_duplicados)"
   ]
  },
  {
   "cell_type": "code",
   "execution_count": 22,
   "metadata": {
    "id": "7b861391"
   },
   "outputs": [
    {
     "name": "stdout",
     "output_type": "stream",
     "text": [
      "4094961\n",
      "4499434\n",
      "         order_id  product_id  add_to_cart_order  reordered\n",
      "57981       61355        5322                NaN          0\n",
      "149404      61355       39475               45.0          0\n",
      "247893      61355        8594                NaN          0\n",
      "269840      61355       14233                5.0          0\n",
      "345399      61355       24010               51.0          0\n",
      "...           ...         ...                ...        ...\n",
      "4426514     61355       29270               15.0          0\n",
      "4482168     61355       24964               33.0          0\n",
      "4515077     61355        6760               27.0          0\n",
      "4521208     61355       16262               62.0          0\n",
      "4525165     61355       24561               54.0          0\n",
      "\n",
      "[127 rows x 4 columns]\n",
      "\n",
      "         order_id  product_id  add_to_cart_order  reordered\n",
      "737       2449164        5068                NaN          0\n",
      "9926      1968313       43867                NaN          0\n",
      "14394     2926893       11688                NaN          0\n",
      "16418     1717990        4142                NaN          0\n",
      "30114     1959075       42828                NaN          1\n",
      "...           ...         ...                ...        ...\n",
      "4505662   1800005        7411                NaN          0\n",
      "4511400   1633337         260                NaN          0\n",
      "4517562    404157        9517                NaN          0\n",
      "4534112   1673227       17835                NaN          0\n",
      "4535739   1832957       17949                NaN          1\n",
      "\n",
      "[827 rows x 4 columns]\n",
      "\n",
      "order_id\n",
      "9310                                                    {65}\n",
      "61355      {65, 66, 67, 68, 69, 70, 71, 72, 73, 74, 75, 7...\n",
      "102236     {65, 66, 67, 68, 69, 70, 71, 72, 73, 74, 75, 7...\n",
      "129627                                  {65, 66, 67, 68, 69}\n",
      "165801                              {65, 66, 67, 68, 69, 70}\n",
      "                                 ...                        \n",
      "2999801                             {65, 66, 67, 68, 69, 70}\n",
      "3125735    {65, 66, 67, 68, 69, 70, 71, 72, 73, 74, 75, 7...\n",
      "3308010    {65, 66, 67, 68, 69, 70, 71, 72, 73, 74, 75, 7...\n",
      "3347453                         {65, 66, 67, 68, 69, 70, 71}\n",
      "3383594                                 {65, 66, 67, 68, 69}\n",
      "Name: add_to_cart_order, Length: 70, dtype: object\n",
      "\n",
      "0    {65}\n",
      "Name: add_to_cart_order, dtype: object\n",
      "         order_id  product_id  add_to_cart_order  reordered\n",
      "311805          4       46842                1.0          0\n",
      "2834230         4       26434                2.0          1\n",
      "1295279         4       39758                3.0          1\n",
      "1169276         4       27761                4.0          1\n",
      "1420535         4       10054                5.0          1\n",
      "...           ...         ...                ...        ...\n",
      "1505667   3421077       27966                1.0          0\n",
      "4417991   3421077       45007                2.0          0\n",
      "719972    3421077       26940                3.0          0\n",
      "4000108   3421077       27845                4.0          0\n",
      "4473670   3421079       30136                1.0          0\n",
      "\n",
      "[4545007 rows x 4 columns]\n"
     ]
    }
   ],
   "source": [
    "# Vuelve a verificar si hay cualquier otro duplicado engañoso\n",
    "# Revisé cuántos valores de order_id y product_id se repiten\n",
    "df_op_duplicado_o_id = df_op['order_id'].duplicated().sum()\n",
    "df_op_duplicado_p_id = df_op['product_id'].duplicated().sum()\n",
    "print(df_op_duplicado_o_id)\n",
    "print(df_op_duplicado_p_id)\n",
    "# Después de observar que se duplican varios valores, tome un order_id para\n",
    "#observar estos casos en particular,\n",
    "print(df_op[df_op['order_id']==61355])\n",
    "#Al observar el orden secuencial analize que la única manera de observar\n",
    "#un duplicado engañoso sería si se repitiera el orden secuencial en conjunto\n",
    "#con el order id.\n",
    "#Sume los duplicados en donde la secuencia add_to_cart_order se repite.\n",
    "print('')\n",
    "duplicados_sorpresa = df_op.duplicated(subset=['order_id', 'add_to_cart_order'], keep=False)\n",
    "print(df_op[duplicados_sorpresa])\n",
    "print('')\n",
    "#Verifique si faltaban valores en la secuencia utilizando restando \n",
    "# la lista de nuemeros que debería haber menos los número que realmente tenemos\n",
    "faltantes = df_op.groupby('order_id')['add_to_cart_order'].apply(lambda x: set(range(1, len(x) + 1))-set(x))\n",
    "#Filtre solo los valores order_id con valores faltantes.\n",
    "faltantes =faltantes[faltantes.apply(len) > 0]\n",
    "print(faltantes)\n",
    "print('')\n",
    "#Convertí la serie a DataFrame para acceder a los order_id que me interesen\n",
    "faltantes_df = faltantes.reset_index()\n",
    "print(faltantes_df.loc[faltantes_df['order_id']==9310, 'add_to_cart_order'])\n",
    "#Finalmente ordene los valores dentro de cada order_id para que esten\n",
    "#ordenados correctamente según el add_to_cart_order\n",
    "df_op = df_op.sort_values(by =['order_id', 'add_to_cart_order'])\n",
    "print(df_op)"
   ]
  },
  {
   "cell_type": "markdown",
   "metadata": {
    "id": "0b890492"
   },
   "source": [
    "Describe brevemente tus hallazgos y lo que hiciste con ellos.\n",
    "Después de realizar un analisis exaustivo del orden secuencial, se obtuvieron las ordenes donde se presentaban valores que faltaban en la secuencia, con alta probabilidad que los valores ausenten contengan NaN."
   ]
  },
  {
   "cell_type": "markdown",
   "metadata": {
    "id": "1e46de76"
   },
   "source": [
    "## Encuentra y elimina los valores ausentes\n",
    "\n",
    "Al trabajar con valores duplicados, pudimos observar que también nos falta investigar valores ausentes:\n",
    "\n",
    "* La columna `'product_name'` de la tabla products.\n",
    "* La columna `'days_since_prior_order'` de la tabla orders.\n",
    "* La columna `'add_to_cart_order'` de la tabla order_productos."
   ]
  },
  {
   "cell_type": "markdown",
   "metadata": {
    "id": "c0aebd78"
   },
   "source": [
    "### `products` data frame"
   ]
  },
  {
   "cell_type": "code",
   "execution_count": 23,
   "metadata": {
    "id": "fe4a8b0f"
   },
   "outputs": [
    {
     "name": "stdout",
     "output_type": "stream",
     "text": [
      "       product_id product_name  aisle_id  department_id\n",
      "37             38          NaN       100             21\n",
      "71             72          NaN       100             21\n",
      "109           110          NaN       100             21\n",
      "296           297          NaN       100             21\n",
      "416           417          NaN       100             21\n",
      "...           ...          ...       ...            ...\n",
      "49552       49553          NaN       100             21\n",
      "49574       49575          NaN       100             21\n",
      "49640       49641          NaN       100             21\n",
      "49663       49664          NaN       100             21\n",
      "49668       49669          NaN       100             21\n",
      "\n",
      "[1258 rows x 4 columns]\n"
     ]
    }
   ],
   "source": [
    "# Encuentra los valores ausentes en la columna 'product_name'\n",
    "df_p_ausentes = df_p[df_p['product_name'].isna()]\n",
    "print(df_p_ausentes)"
   ]
  },
  {
   "cell_type": "markdown",
   "metadata": {
    "id": "-A6x1AbJhjkp"
   },
   "source": [
    "Describe brevemente cuáles son tus hallazgos.\n",
    "Se encontraron un gran número de productos sin nombre exactamente 1258 filas, todas parecieran estar vinculadas a la categoría 100 y al departamento 21."
   ]
  },
  {
   "cell_type": "code",
   "execution_count": 24,
   "metadata": {
    "id": "e96167bc"
   },
   "outputs": [
    {
     "name": "stdout",
     "output_type": "stream",
     "text": [
      "100    1258\n",
      "Name: aisle_id, dtype: int64\n"
     ]
    }
   ],
   "source": [
    "#  ¿Todos los nombres de productos ausentes están relacionados con el pasillo con ID 100?\n",
    "print(df_p_ausentes['aisle_id'].value_counts())"
   ]
  },
  {
   "cell_type": "markdown",
   "metadata": {
    "id": "WRpIfXRphpSL"
   },
   "source": [
    "Describe brevemente cuáles son tus hallazgos.\n",
    "En efecto, todos los nombres de productos ausentes se encuentran en el aisle 100."
   ]
  },
  {
   "cell_type": "code",
   "execution_count": 25,
   "metadata": {
    "id": "8fd0a541"
   },
   "outputs": [
    {
     "name": "stdout",
     "output_type": "stream",
     "text": [
      "21    1258\n",
      "Name: department_id, dtype: int64\n"
     ]
    }
   ],
   "source": [
    "# ¿Todos los nombres de productos ausentes están relacionados con el departamento con ID 21?\n",
    "print(df_p_ausentes['department_id'].value_counts())"
   ]
  },
  {
   "cell_type": "markdown",
   "metadata": {
    "id": "qDpdYn1Fht_I"
   },
   "source": [
    "Describe brevemente cuáles son tus hallazgos.\n",
    "Igualmente, todos los nombres de productos ausentes están relacionados con el departamento 21."
   ]
  },
  {
   "cell_type": "code",
   "execution_count": 26,
   "metadata": {
    "id": "325c3464"
   },
   "outputs": [
    {
     "name": "stdout",
     "output_type": "stream",
     "text": [
      "       product_id product_name  aisle_id  department_id\n",
      "37             38          NaN       100             21\n",
      "71             72          NaN       100             21\n",
      "109           110          NaN       100             21\n",
      "296           297          NaN       100             21\n",
      "416           417          NaN       100             21\n",
      "...           ...          ...       ...            ...\n",
      "49552       49553          NaN       100             21\n",
      "49574       49575          NaN       100             21\n",
      "49640       49641          NaN       100             21\n",
      "49663       49664          NaN       100             21\n",
      "49668       49669          NaN       100             21\n",
      "\n",
      "[1258 rows x 4 columns]\n"
     ]
    }
   ],
   "source": [
    "# Usa las tablas department y aisle para revisar los datos del pasillo con ID 100 y el departamento con ID 21.\n",
    "df_p_100_21= df_p[(df_p['aisle_id']==100) & (df_p['department_id']==21)]\n",
    "print(df_p_100_21)\n"
   ]
  },
  {
   "cell_type": "markdown",
   "metadata": {
    "id": "nqhSTUPhhvEJ"
   },
   "source": [
    "Describe brevemente cuáles son tus hallazgos.\n",
    "Todos los valores de este departamente son los mismos para todos los nombres de productos ausentes."
   ]
  },
  {
   "cell_type": "code",
   "execution_count": 27,
   "metadata": {
    "id": "6b295120"
   },
   "outputs": [
    {
     "name": "stdout",
     "output_type": "stream",
     "text": [
      "0\n"
     ]
    }
   ],
   "source": [
    "# Completa los nombres de productos ausentes con 'Unknown'\n",
    "df_p['product_name'] = df_p['product_name'].fillna('Unknown')\n",
    "print(df_p['product_name'].isna().sum())"
   ]
  },
  {
   "cell_type": "markdown",
   "metadata": {
    "id": "fc70e5ad"
   },
   "source": [
    "Describe brevemente tus hallazgos y lo que hiciste con ellos."
   ]
  },
  {
   "cell_type": "markdown",
   "metadata": {
    "id": "7eb45c86"
   },
   "source": [
    "### `orders` data frame"
   ]
  },
  {
   "cell_type": "code",
   "execution_count": 28,
   "metadata": {
    "id": "93e41d96"
   },
   "outputs": [
    {
     "name": "stdout",
     "output_type": "stream",
     "text": [
      "        order_id  user_id  order_number  order_dow  order_hour_of_day  \\\n",
      "0            NaN      NaN           NaN        NaN                NaN   \n",
      "1            NaN      NaN           NaN        NaN                NaN   \n",
      "2            NaN      NaN           NaN        NaN                NaN   \n",
      "3            NaN      NaN           NaN        NaN                NaN   \n",
      "4            NaN      NaN           NaN        NaN                NaN   \n",
      "...          ...      ...           ...        ...                ...   \n",
      "478962       NaN      NaN           NaN        NaN                NaN   \n",
      "478963       NaN      NaN           NaN        NaN                NaN   \n",
      "478964       NaN      NaN           NaN        NaN                NaN   \n",
      "478965       NaN      NaN           NaN        NaN                NaN   \n",
      "478966       NaN      NaN           NaN        NaN                NaN   \n",
      "\n",
      "        days_since_prior_order  \n",
      "0                          NaN  \n",
      "1                          NaN  \n",
      "2                          NaN  \n",
      "3                          NaN  \n",
      "4                          NaN  \n",
      "...                        ...  \n",
      "478962                     NaN  \n",
      "478963                     NaN  \n",
      "478964                     NaN  \n",
      "478965                     NaN  \n",
      "478966                     NaN  \n",
      "\n",
      "[478967 rows x 6 columns]\n"
     ]
    }
   ],
   "source": [
    "# Encuentra los valores ausentes\n",
    "df_io_ausentes = df_io[df_io.isna()]\n",
    "print(df_io_ausentes)"
   ]
  },
  {
   "cell_type": "code",
   "execution_count": 29,
   "metadata": {
    "id": "166e5a86"
   },
   "outputs": [
    {
     "name": "stdout",
     "output_type": "stream",
     "text": [
      "<class 'pandas.core.frame.DataFrame'>\n",
      "RangeIndex: 478967 entries, 0 to 478966\n",
      "Data columns (total 6 columns):\n",
      " #   Column                  Non-Null Count   Dtype  \n",
      "---  ------                  --------------   -----  \n",
      " 0   order_id                478967 non-null  int64  \n",
      " 1   user_id                 478967 non-null  int64  \n",
      " 2   order_number            478967 non-null  int64  \n",
      " 3   order_dow               478967 non-null  int64  \n",
      " 4   order_hour_of_day       478967 non-null  int64  \n",
      " 5   days_since_prior_order  450148 non-null  float64\n",
      "dtypes: float64(1), int64(5)\n",
      "memory usage: 21.9 MB\n"
     ]
    }
   ],
   "source": [
    "# ¿Hay algún valor ausente que no sea el primer pedido del cliente?\n",
    "df_io.info()"
   ]
  },
  {
   "cell_type": "markdown",
   "metadata": {
    "id": "4e23d089"
   },
   "source": [
    "Describe brevemente tus hallazgos y lo que hiciste con ellos.\n",
    "Al parecer de las entradas que se tienen del data frame se ingresa una linea sin ningún valor."
   ]
  },
  {
   "cell_type": "markdown",
   "metadata": {
    "id": "69dc9ca4"
   },
   "source": [
    "### `order_products` data frame"
   ]
  },
  {
   "cell_type": "code",
   "execution_count": 30,
   "metadata": {
    "id": "b8240253"
   },
   "outputs": [
    {
     "name": "stdout",
     "output_type": "stream",
     "text": [
      "order_id               0\n",
      "product_id             0\n",
      "add_to_cart_order    836\n",
      "reordered              0\n",
      "dtype: int64\n",
      "<class 'pandas.core.frame.DataFrame'>\n",
      "Int64Index: 4545007 entries, 311805 to 4473670\n",
      "Data columns (total 4 columns):\n",
      " #   Column             Dtype  \n",
      "---  ------             -----  \n",
      " 0   order_id           int64  \n",
      " 1   product_id         int64  \n",
      " 2   add_to_cart_order  float64\n",
      " 3   reordered          int64  \n",
      "dtypes: float64(1), int64(3)\n",
      "memory usage: 173.4 MB\n"
     ]
    }
   ],
   "source": [
    "# Encuentra los valores ausentes\n",
    "df_op_ausentes = df_op.isna().sum()\n",
    "print(df_op_ausentes)\n",
    " \n",
    "#df_op = df_op.dropna(subset= ['order_id'])\n",
    " \n",
    "df_op.info()"
   ]
  },
  {
   "cell_type": "code",
   "execution_count": 31,
   "metadata": {
    "id": "9a78e5ee"
   },
   "outputs": [
    {
     "name": "stdout",
     "output_type": "stream",
     "text": [
      "1.0 64.0\n"
     ]
    }
   ],
   "source": [
    "# ¿Cuáles son los valores mínimos y máximos en esta columna?\n",
    "print(df_op['add_to_cart_order'].min(), df_op['add_to_cart_order'].max())\n",
    "# El minimo es 1 y el valor máximo es 64"
   ]
  },
  {
   "cell_type": "markdown",
   "metadata": {
    "id": "-Z2Ja215jW78"
   },
   "source": [
    "Describe brevemente cuáles son tus hallazgos."
   ]
  },
  {
   "cell_type": "code",
   "execution_count": 32,
   "metadata": {
    "id": "ab9d0c2b"
   },
   "outputs": [
    {
     "name": "stdout",
     "output_type": "stream",
     "text": [
      "         order_id  product_id  add_to_cart_order  reordered\n",
      "2437093      9310       25753                NaN          0\n",
      "57981       61355        5322                NaN          0\n",
      "247893      61355        8594                NaN          0\n",
      "381535      61355       12315                NaN          0\n",
      "399791      61355       10199                NaN          0\n",
      "...           ...         ...                ...        ...\n",
      "1038616   3383594       15424                NaN          1\n",
      "1537276   3383594       15076                NaN          0\n",
      "2772397   3383594       46710                NaN          0\n",
      "3760909   3383594          63                NaN          0\n",
      "3784932   3383594       49144                NaN          1\n",
      "\n",
      "[836 rows x 4 columns]\n"
     ]
    }
   ],
   "source": [
    "# Guarda todas las IDs de pedidos que tengan un valor ausente en 'add_to_cart_order'\n",
    "ids_perdidos = df_op[df_op['add_to_cart_order'].isna()]\n",
    "print(ids_perdidos)"
   ]
  },
  {
   "cell_type": "code",
   "execution_count": 33,
   "metadata": {
    "id": "54c31695"
   },
   "outputs": [
    {
     "name": "stdout",
     "output_type": "stream",
     "text": [
      "       order_id  product_id_x  add_to_cart_order_x  reordered_x  product_id_y  \\\n",
      "0          9310         25753                  NaN            0         32578   \n",
      "1          9310         25753                  NaN            0         20082   \n",
      "2          9310         25753                  NaN            0         27966   \n",
      "3          9310         25753                  NaN            0         18523   \n",
      "4          9310         25753                  NaN            0         42828   \n",
      "...         ...           ...                  ...          ...           ...   \n",
      "74963   3383594         49144                  NaN            1         15424   \n",
      "74964   3383594         49144                  NaN            1         15076   \n",
      "74965   3383594         49144                  NaN            1         46710   \n",
      "74966   3383594         49144                  NaN            1            63   \n",
      "74967   3383594         49144                  NaN            1         49144   \n",
      "\n",
      "       add_to_cart_order_y  reordered_y  \n",
      "0                      1.0            1  \n",
      "1                      2.0            1  \n",
      "2                      3.0            1  \n",
      "3                      4.0            1  \n",
      "4                      5.0            0  \n",
      "...                    ...          ...  \n",
      "74963                  NaN            1  \n",
      "74964                  NaN            0  \n",
      "74965                  NaN            0  \n",
      "74966                  NaN            0  \n",
      "74967                  NaN            1  \n",
      "\n",
      "[74968 rows x 7 columns]\n",
      "\n",
      "order_id\n",
      "9310         65\n",
      "61355      8001\n",
      "102236     2945\n",
      "129627      345\n",
      "165801      420\n",
      "           ... \n",
      "2999801     420\n",
      "3125735    1892\n",
      "3308010    5865\n",
      "3347453     497\n",
      "3383594     345\n",
      "Name: product_id_y, Length: 70, dtype: int64\n",
      "\n",
      "65\n"
     ]
    }
   ],
   "source": [
    "# ¿Todos los pedidos con valores ausentes tienen más de 64 productos?\n",
    "# Agrupa todos los pedidos con datos ausentes por su ID de pedido.\n",
    "# Cuenta el número de 'product_id' en cada pedido y revisa el valor mínimo del conteo.\n",
    "lost_mergered = ids_perdidos.merge(df_op, left_on='order_id',right_on='order_id')\n",
    "print(lost_mergered)\n",
    "count_product = lost_mergered.groupby('order_id')['product_id_y'].count()\n",
    "print()\n",
    "print(count_product)\n",
    "print()\n",
    "#Obtención del conteo mínimo de conteo.\n",
    "min_count = count_product.min()\n",
    "print(min_count)"
   ]
  },
  {
   "cell_type": "markdown",
   "metadata": {
    "id": "p9V6pddtjglj"
   },
   "source": [
    "Describe brevemente cuáles son tus hallazgos.\n",
    "Se observa que apartir del producto 65 se comienza a no registrar los valores secuenciales de adquisión al carrito."
   ]
  },
  {
   "cell_type": "code",
   "execution_count": 34,
   "metadata": {
    "id": "7a987d08"
   },
   "outputs": [
    {
     "name": "stdout",
     "output_type": "stream",
     "text": [
      "<class 'pandas.core.frame.DataFrame'>\n",
      "Int64Index: 4545007 entries, 311805 to 4473670\n",
      "Data columns (total 4 columns):\n",
      " #   Column             Dtype \n",
      "---  ------             ----- \n",
      " 0   order_id           int64 \n",
      " 1   product_id         int64 \n",
      " 2   add_to_cart_order  object\n",
      " 3   reordered          int64 \n",
      "dtypes: int64(3), object(1)\n",
      "memory usage: 173.4+ MB\n"
     ]
    },
    {
     "data": {
      "text/plain": [
       "order_id             4545007\n",
       "product_id           4545007\n",
       "add_to_cart_order    4545007\n",
       "reordered            4545007\n",
       "dtype: int64"
      ]
     },
     "execution_count": 34,
     "metadata": {},
     "output_type": "execute_result"
    }
   ],
   "source": [
    "# Remplaza los valores ausentes en la columna 'add_to_cart? con 999 y convierte la columna al tipo entero.\n",
    "df_op['add_to_cart_order'] = df_op['add_to_cart_order'].fillna('999')\n",
    "df_op['add_to_cart_order'].str\n",
    "df_op.info()\n",
    "df_op.notnull().sum()"
   ]
  },
  {
   "cell_type": "markdown",
   "metadata": {
    "id": "fea4bcc7"
   },
   "source": [
    "Describe brevemente tus hallazgos y lo que hiciste con ellos.\n",
    "Se llenaron los valores vacíos de la columna add_to_cart_order para que tengan un valor y el dataframe de \"order products\" dejara de tener valores nulos. "
   ]
  },
  {
   "cell_type": "markdown",
   "metadata": {
    "id": "RnplPFY1gSrb"
   },
   "source": [
    "## Conclusiones\n",
    "\n",
    "Escribe aquí tus conclusiones intermedias sobre el Paso 2. Preprocesamiento de los datos\n",
    "El preprocesamiento de datos empieza en la visualización de los DataFrame donde se comienza a procesar los datos nulos de las diferentes columnas y dar un sentido a los datos, esto con el proposito de empezar a realizar proposiciones en base a ellos.\n"
   ]
  },
  {
   "cell_type": "markdown",
   "metadata": {
    "id": "UjrOIwTcz3ri"
   },
   "source": [
    "# Paso 3. Análisis de los datos\n",
    "\n",
    "Una vez los datos estén procesados y listos, haz el siguiente análisis:"
   ]
  },
  {
   "cell_type": "markdown",
   "metadata": {
    "id": "turkish-kidney"
   },
   "source": [
    "# [A] Fácil (deben completarse todos para aprobar)\n",
    "\n",
    "1. Verifica que los valores en las columnas `'order_hour_of_day'` y `'order_dow'` en la tabla orders sean razonables (es decir, `'order_hour_of_day'` oscile entre 0 y 23 y `'order_dow'` oscile entre 0 y 6).\n",
    "2. Crea un gráfico que muestre el número de personas que hacen pedidos dependiendo de la hora del día.\n",
    "3. Crea un gráfico que muestre qué día de la semana la gente hace sus compras.\n",
    "4. Crea un gráfico que muestre el tiempo que la gente espera hasta hacer su siguiente pedido, y comenta sobre los valores mínimos y máximos."
   ]
  },
  {
   "cell_type": "markdown",
   "metadata": {
    "id": "short-capability"
   },
   "source": [
    "### [A1] Verifica que los valores sean sensibles"
   ]
  },
  {
   "cell_type": "code",
   "execution_count": 35,
   "metadata": {
    "id": "growing-fruit"
   },
   "outputs": [
    {
     "name": "stdout",
     "output_type": "stream",
     "text": [
      "0      3180\n",
      "1      1763\n",
      "2      1004\n",
      "3       770\n",
      "4       765\n",
      "5      1371\n",
      "6      4215\n",
      "7     13043\n",
      "8     25024\n",
      "9     35896\n",
      "10    40578\n",
      "11    40032\n",
      "12    38034\n",
      "13    39007\n",
      "14    39631\n",
      "15    39789\n",
      "16    38112\n",
      "17    31930\n",
      "18    25510\n",
      "19    19547\n",
      "20    14624\n",
      "21    11019\n",
      "22     8512\n",
      "23     5611\n",
      "Name: order_hour_of_day, dtype: int64\n"
     ]
    }
   ],
   "source": [
    "valores_hora = df_io['order_hour_of_day'].value_counts().sort_index()\n",
    "print(valores_hora)"
   ]
  },
  {
   "cell_type": "code",
   "execution_count": 36,
   "metadata": {
    "id": "accessory-malaysia"
   },
   "outputs": [
    {
     "name": "stdout",
     "output_type": "stream",
     "text": [
      "0    84090\n",
      "1    82185\n",
      "2    65833\n",
      "3    60912\n",
      "4    59810\n",
      "5    63488\n",
      "6    62649\n",
      "Name: order_dow, dtype: int64\n"
     ]
    }
   ],
   "source": [
    "valores_dias = df_io['order_dow'].value_counts().sort_index()\n",
    "print(valores_dias)"
   ]
  },
  {
   "cell_type": "markdown",
   "metadata": {
    "id": "hmR2GNQ6lCsX"
   },
   "source": [
    "Escribe aquí tus conclusiones. Los valores para las horas y los días es consistente. Por lo cuál las conclusiones que se obtengan a partir de ahora esta lectura retrospectiva es altamente probable, por lo tanto, debe ser discutida y analizada, puesto que el estudio del comportamiento de compra de los usuarios como eje estructurante y sistemático sirve a la toma de decisiones."
   ]
  },
  {
   "cell_type": "markdown",
   "metadata": {
    "id": "a6743a70"
   },
   "source": [
    "### [A2] Para cada hora del día, ¿cuántas personas hacen órdenes?"
   ]
  },
  {
   "cell_type": "code",
   "execution_count": 37,
   "metadata": {
    "id": "a36cca27"
   },
   "outputs": [
    {
     "data": {
      "image/png": "[encoded data removed]",
      "text/plain": [
       "<Figure size 864x432 with 1 Axes>"
      ]
     },
     "metadata": {
      "needs_background": "light"
     },
     "output_type": "display_data"
    }
   ],
   "source": [
    "import matplotlib.pyplot as plt\n",
    "\n",
    "plt.figure(figsize=(12, 6))\n",
    "orden_por_horas = df_io.groupby('order_hour_of_day')['user_id'].nunique()\n",
    "orden_por_horas.plot(kind='bar', color= 'skyblue')\n",
    "plt.title('Usuarios únicos que hacen pedidos por hora del día')\n",
    "plt.xlabel('Hora del día')\n",
    "plt.ylabel('Número de usuarios')\n",
    "plt.xticks(rotation =0)\n",
    "plt.tight_layout()\n",
    "plt.show()"
   ]
  },
  {
   "cell_type": "markdown",
   "metadata": {
    "id": "11270eed"
   },
   "source": [
    "Escribe aquí tus conclusiones\n",
    "Con la gráfica se observa que hay un tráfico mayor de usuarios entre las 10h y 16h."
   ]
  },
  {
   "cell_type": "markdown",
   "metadata": {
    "id": "documented-command"
   },
   "source": [
    "### [A3] ¿Qué día de la semana compran víveres las personas?"
   ]
  },
  {
   "cell_type": "code",
   "execution_count": 38,
   "metadata": {
    "id": "chief-digit"
   },
   "outputs": [
    {
     "data": {
      "image/png": "[encoded data removed]",
      "text/plain": [
       "<Figure size 720x432 with 1 Axes>"
      ]
     },
     "metadata": {
      "needs_background": "light"
     },
     "output_type": "display_data"
    }
   ],
   "source": [
    "plt.figure(figsize=(10,6))\n",
    "ordenes_por_dia = df_io['order_dow'].value_counts().sort_index()\n",
    "ordenes_por_dia.plot(kind='bar', color= 'lightgreen')\n",
    "plt.title('Número de pedidos por día de la semana (0 = Domingo)')\n",
    "plt.xlabel('Día de la semana')\n",
    "plt.ylabel('Número de pedidos')\n",
    "plt.xticks(rotation = 0)\n",
    "plt.tight_layout()\n",
    "plt.show()"
   ]
  },
  {
   "cell_type": "markdown",
   "metadata": {
    "id": "dominant-lightning"
   },
   "source": [
    "Escribe aquí tus conclusiones\n",
    "El número de pedidos de la semana es en general estable entre los 60,000 pedidos pero sube hasta 80,000 el domingo manteniendose entre esa cifra hasta el lunes."
   ]
  },
  {
   "cell_type": "markdown",
   "metadata": {
    "id": "cutting-concert"
   },
   "source": [
    "### [A4] ¿Cuánto tiempo esperan las personas hasta hacer otro pedido? Comenta sobre los valores mínimos y máximos."
   ]
  },
  {
   "cell_type": "code",
   "execution_count": 39,
   "metadata": {
    "id": "c231f523"
   },
   "outputs": [
    {
     "data": {
      "image/png": "[encoded data removed]",
      "text/plain": [
       "<Figure size 720x432 with 1 Axes>"
      ]
     },
     "metadata": {
      "needs_background": "light"
     },
     "output_type": "display_data"
    },
    {
     "name": "stdout",
     "output_type": "stream",
     "text": [
      "count    450148.000000\n",
      "mean         11.101751\n",
      "std           9.189975\n",
      "min           0.000000\n",
      "25%           4.000000\n",
      "50%           7.000000\n",
      "75%          15.000000\n",
      "max          30.000000\n",
      "Name: days_since_prior_order, dtype: float64\n"
     ]
    }
   ],
   "source": [
    "plt.figure(figsize=(10,6))\n",
    "df_io['days_since_prior_order'].dropna().plot(kind='hist', bins=30, color= 'salmon')\n",
    "plt.title('Distribución de días entre pedidos')\n",
    "plt.xlabel('Días desde el último pedido')\n",
    "plt.ylabel('Frecuencia')\n",
    "plt.tight_layout()\n",
    "plt.show()\n",
    "\n",
    "print(df_io['days_since_prior_order'].describe())\n"
   ]
  },
  {
   "cell_type": "markdown",
   "metadata": {
    "id": "discrete-vertex"
   },
   "source": [
    "Escribe aquí tus conclusiones. Al parecer la gráfica muestra que hay un una ventana entre 0 y 10 días donde las personas suelen frecuentemente comprar, por otra parte una alta mayoría de usuarios no regresa a comprar de nuevo hasta los 30 días."
   ]
  },
  {
   "cell_type": "markdown",
   "metadata": {
    "id": "tight-staff"
   },
   "source": [
    "# [B] Intermedio (deben completarse todos para aprobar)\n",
    "\n",
    "1. ¿Existe alguna diferencia entre las distribuciones `'order_hour_of_day'` de los miércoles y los sábados? Traza gráficos de barra de `'order_hour_of_day'` para ambos días en la misma figura y describe las diferencias que observes.\n",
    "2. Grafica la distribución para el número de órdenes que hacen los clientes (es decir, cuántos clientes hicieron solo 1 pedido, cuántos hicieron 2, cuántos 3, y así sucesivamente...).\n",
    "3. ¿Cuáles son los 20 principales productos que se piden con más frecuencia (muestra su identificación y nombre)?"
   ]
  },
  {
   "cell_type": "markdown",
   "metadata": {
    "id": "packed-classic"
   },
   "source": [
    "### [B1] Diferencia entre miércoles y sábados para  `'order_hour_of_day'`. Traza gráficos de barra para los dos días y describe las diferencias que veas."
   ]
  },
  {
   "cell_type": "code",
   "execution_count": 40,
   "metadata": {
    "id": "d89b8403"
   },
   "outputs": [],
   "source": [
    "orders_mi =df_io[df_io['order_dow'] == 3]['order_hour_of_day']"
   ]
  },
  {
   "cell_type": "code",
   "execution_count": 41,
   "metadata": {
    "id": "94e54e8a"
   },
   "outputs": [],
   "source": [
    "orders_sab = df_io[df_io['order_dow'] == 6]['order_hour_of_day']"
   ]
  },
  {
   "cell_type": "code",
   "execution_count": 42,
   "metadata": {
    "id": "797c90a8"
   },
   "outputs": [
    {
     "data": {
      "image/png": "[encoded data removed]",
      "text/plain": [
       "<Figure size 864x432 with 1 Axes>"
      ]
     },
     "metadata": {
      "needs_background": "light"
     },
     "output_type": "display_data"
    }
   ],
   "source": [
    "import seaborn as sns\n",
    "plt.figure(figsize=(12,6))\n",
    "sns.histplot(orders_mi, label= 'Miércoles', kde= False, bins=24, color='blue', alpha=0.6)\n",
    "sns.histplot(orders_sab, label= 'Sábado', kde= False, bins=24, color= 'orange', alpha=0.6)\n",
    "plt.title('Distribución de horas del día - Miércoles vs Sábado')\n",
    "plt.xlabel('Hora del día')\n",
    "plt.ylabel('Número de pedidos')\n",
    "plt.legend()\n",
    "plt.tight_layout()\n",
    "plt.show()"
   ]
  },
  {
   "cell_type": "markdown",
   "metadata": {
    "id": "charitable-congo"
   },
   "source": [
    "Escribe aquí tus conclusiones\n",
    "Ambas distribuciones se siguen cercanamente sin embargo, es el sábado ente las 10 y las 15 horas donde se lleva por amplia diferencia la mayoría de número de pedidos. Que en comparación con el número de pedidos totales por día se observa claramente la diferencia por esta mayoría de número de pedidos.Pese a que hubo otras horas donde el miércoles presentaban más pedidos que en sábado."
   ]
  },
  {
   "cell_type": "markdown",
   "metadata": {
    "id": "e3891143"
   },
   "source": [
    "### [B2] ¿Cuál es la distribución para el número de pedidos por cliente?"
   ]
  },
  {
   "cell_type": "code",
   "execution_count": 43,
   "metadata": {
    "id": "d8c26c23"
   },
   "outputs": [
    {
     "data": {
      "image/png": "[encoded data removed]",
      "text/plain": [
       "<Figure size 720x432 with 1 Axes>"
      ]
     },
     "metadata": {
      "needs_background": "light"
     },
     "output_type": "display_data"
    }
   ],
   "source": [
    "usuario_pedidos = df_io.groupby('user_id')['order_number'].max()\n",
    "plt.figure(figsize=(10,6))\n",
    "usuario_pedidos.value_counts().sort_index().plot(kind='bar', color='purple')\n",
    "plt.title('Número de pedidos hechos por cliente')\n",
    "plt.xlabel('Cantidad de pedidos')\n",
    "plt.ylabel('Número de clientes')\n",
    "plt.tight_layout()\n",
    "plt.show()"
   ]
  },
  {
   "cell_type": "markdown",
   "metadata": {
    "id": "d2eff7d5"
   },
   "source": [
    "Escribe aquí tus conclusiones.\n",
    "Con la gráfica podemos observar que apartir del artículo no.40 (incluso antes, en el artículo no.30 va a la baja en número de clientes, siendo 4 pedidos el valor más alto que hacen la mayoría de usuarios, pero entre una larga mayoría hace de 1 a 10 pedidos.  "
   ]
  },
  {
   "cell_type": "markdown",
   "metadata": {
    "id": "54a0319c"
   },
   "source": [
    "### [B3] ¿Cuáles son los 20 productos más populares (muestra su ID y nombre)?"
   ]
  },
  {
   "cell_type": "code",
   "execution_count": 44,
   "metadata": {
    "id": "exterior-arizona",
    "scrolled": true
   },
   "outputs": [],
   "source": [
    "top_products = df_op['product_id'].value_counts().head(20)"
   ]
  },
  {
   "cell_type": "code",
   "execution_count": 45,
   "metadata": {
    "id": "universal-facial"
   },
   "outputs": [],
   "source": [
    "top_products_named = top_products.reset_index().merge(df_p, left_on='index', right_on='product_id')[['product_id_x', 'product_name','product_id_y']]\n",
    "#df_p.info()\n",
    "#print(top_products)\n",
    "#top_products_named.info()"
   ]
  },
  {
   "cell_type": "code",
   "execution_count": 46,
   "metadata": {
    "id": "bbcdd20b"
   },
   "outputs": [
    {
     "data": {
      "image/png": "[encoded data removed]",
      "text/plain": [
       "<Figure size 864x432 with 1 Axes>"
      ]
     },
     "metadata": {
      "needs_background": "light"
     },
     "output_type": "display_data"
    }
   ],
   "source": [
    "plt.figure(figsize=(12,6))\n",
    "sns.barplot(x='product_id_y', y='product_name', data= top_products_named, palette='viridis')\n",
    "plt.title('Top 20 productos más pedidos')\n",
    "plt.xlabel('Cantidad de veces pedido')\n",
    "plt.ylabel('Producto')\n",
    "plt.tight_layout()\n",
    "plt.show()"
   ]
  },
  {
   "cell_type": "markdown",
   "metadata": {
    "id": "7df00f47"
   },
   "source": [
    "Escribe aquí tus conclusiones.\n",
    "Como se observa los veinte productos más pedidos son productos de verdulería. En particular el 'Cucumber kirby', 'organic baby spinach' y 'Avocado', también 'Organic grape tomatoes' figura bastante en los 20 productos más vendidos, se podría especular que al ser el departamento con productos más perecederos la gente tiende a elegirlos, pues se encuentran en constante renovación."
   ]
  },
  {
   "cell_type": "markdown",
   "metadata": {
    "id": "gross-theme"
   },
   "source": [
    "# [C] Difícil (deben completarse todos para aprobar)\n",
    "\n",
    "1. ¿Cuántos artículos suelen comprar las personas en un pedido? ¿Cómo es la distribución?\n",
    "2. ¿Cuáles son los 20 principales artículos que vuelven a pedirse con mayor frecuencia (muestra sus nombres e IDs de los productos)?\n",
    "3. Para cada producto, ¿cuál es la tasa de repetición del pedido (número de repeticiones de pedido/total de pedidos?\n",
    "4. Para cada cliente, ¿qué proporción de los productos que pidió ya los había pedido? Calcula la tasa de repetición de pedido para cada usuario en lugar de para cada producto.\n",
    "5. ¿Cuáles son los 20 principales artículos que la gente pone primero en sus carritos (muestra las IDs de los productos, sus nombres, y el número de veces en que fueron el primer artículo en añadirse al carrito)?"
   ]
  },
  {
   "cell_type": "markdown",
   "metadata": {
    "id": "romantic-deposit"
   },
   "source": [
    "### [C1] ¿Cuántos artículos compran normalmente las personas en un pedido? ¿Cómo es la distribución?"
   ]
  },
  {
   "cell_type": "code",
   "execution_count": 47,
   "metadata": {
    "id": "virtual-punch"
   },
   "outputs": [],
   "source": [
    "item_per_order = df_op.groupby('order_id')['product_id'].count()"
   ]
  },
  {
   "cell_type": "code",
   "execution_count": 48,
   "metadata": {
    "id": "sensitive-breathing"
   },
   "outputs": [
    {
     "data": {
      "image/png": "[encoded data removed]",
      "text/plain": [
       "<Figure size 720x432 with 1 Axes>"
      ]
     },
     "metadata": {
      "needs_background": "light"
     },
     "output_type": "display_data"
    }
   ],
   "source": [
    "plt.figure(figsize=(10, 6))\n",
    "sns.histplot(item_per_order, bins=30, color='teal')\n",
    "plt.title('Distribución de número de artículos por pedido')\n",
    "plt.xlabel('Cantidad de artículos')\n",
    "plt.ylabel('Frecuencia')\n",
    "plt.tight_layout()\n",
    "plt.show()"
   ]
  },
  {
   "cell_type": "markdown",
   "metadata": {
    "id": "designed-mortality"
   },
   "source": [
    "Escribe aquí tus conclusiones. En la gráfica se observa que muy poca gente sobrepasa los 40 artículos en su pedido, y normalmente su compra, reafirmando lo que habíamos observado anteriormente, sobre los prímeros 10 artículos."
   ]
  },
  {
   "cell_type": "markdown",
   "metadata": {
    "id": "5e6b5537"
   },
   "source": [
    "### [C2] ¿Cuáles son los 20 principales artículos que vuelven a pedirse con mayor frecuencia (muestra sus nombres e IDs de los productos)?"
   ]
  },
  {
   "cell_type": "code",
   "execution_count": 49,
   "metadata": {
    "id": "9374e55a"
   },
   "outputs": [
    {
     "name": "stdout",
     "output_type": "stream",
     "text": [
      "<class 'pandas.core.frame.DataFrame'>\n",
      "Int64Index: 20 entries, 0 to 19\n",
      "Data columns (total 3 columns):\n",
      " #   Column        Non-Null Count  Dtype \n",
      "---  ------        --------------  ----- \n",
      " 0   product_id_x  20 non-null     int64 \n",
      " 1   product_name  20 non-null     object\n",
      " 2   product_id_y  20 non-null     int64 \n",
      "dtypes: int64(2), object(1)\n",
      "memory usage: 640.0+ bytes\n"
     ]
    }
   ],
   "source": [
    "reordered_products = df_op[df_op['reordered']==1]\n",
    "top_reordered = reordered_products['product_id'].value_counts().head(20)\n",
    "top_reordered_named = top_reordered.reset_index().merge(df_p, left_on='index', right_on='product_id')[['product_id_x','product_name','product_id_y']] \n",
    "#reordered_products.info()\n",
    "#print(top_reordered)\n",
    "top_reordered_named.info()"
   ]
  },
  {
   "cell_type": "code",
   "execution_count": 50,
   "metadata": {
    "id": "possible-change",
    "scrolled": true
   },
   "outputs": [
    {
     "data": {
      "image/png": "[encoded data removed]",
      "text/plain": [
       "<Figure size 864x432 with 1 Axes>"
      ]
     },
     "metadata": {
      "needs_background": "light"
     },
     "output_type": "display_data"
    }
   ],
   "source": [
    "plt.figure(figsize=(12,6))\n",
    "sns.barplot(x='product_id_x', y='product_name', data=top_reordered_named, palette= 'rocket')\n",
    "plt.title('Top 20 productos más vueltos a pedir')\n",
    "plt.xlabel('Cantidad de veces reordenado')\n",
    "plt.ylabel('Producto')\n",
    "plt.tight_layout()\n",
    "plt.show()"
   ]
  },
  {
   "cell_type": "markdown",
   "metadata": {
    "id": "80e70c74"
   },
   "source": [
    "Escribe aquí tus conclusiones. Al analizar lo anterior sobre los productos más vendidos nos da una idea del producto más vendido en este analisis nos enteramos del producto más popular entre los clientes pues tienden a repetir su compra, tienen por lo tanto una excelente estima en productos como 'Banana'y 'Strawberries'. Al igual que en los productos bajo la descripción orgánico, la cuál parece gustarle mucho a los usuarios."
   ]
  },
  {
   "cell_type": "markdown",
   "metadata": {
    "id": "9d312b14"
   },
   "source": [
    "### [C3] Para cada producto, ¿cuál es la proporción de las veces que se pide y que se vuelve a pedir?"
   ]
  },
  {
   "cell_type": "code",
   "execution_count": 51,
   "metadata": {
    "id": "8ae9f4b1"
   },
   "outputs": [],
   "source": [
    "#Tasa de repetición por producto\n",
    "product_reorder_ratio = df_op.groupby('product_id')['reordered'].mean()"
   ]
  },
  {
   "cell_type": "code",
   "execution_count": 52,
   "metadata": {
    "id": "103e7fe1"
   },
   "outputs": [],
   "source": [
    "product_reorder_ratio.name = 'reorder_rate'"
   ]
  },
  {
   "cell_type": "code",
   "execution_count": 53,
   "metadata": {
    "id": "social-individual"
   },
   "outputs": [
    {
     "name": "stdout",
     "output_type": "stream",
     "text": [
      "product_id\n",
      "1        0.564286\n",
      "2        0.000000\n",
      "3        0.738095\n",
      "4        0.510204\n",
      "7        0.500000\n",
      "           ...   \n",
      "49690    0.800000\n",
      "49691    0.430556\n",
      "49692    0.416667\n",
      "49693    0.440000\n",
      "49694    0.333333\n",
      "Name: reorder_rate, Length: 45573, dtype: float64\n"
     ]
    },
    {
     "data": {
      "text/plain": [
       "count    45573.000000\n",
       "mean         0.386707\n",
       "std          0.272132\n",
       "min          0.000000\n",
       "25%          0.166667\n",
       "50%          0.408163\n",
       "75%          0.575758\n",
       "max          1.000000\n",
       "Name: reorder_rate, dtype: float64"
      ]
     },
     "execution_count": 53,
     "metadata": {},
     "output_type": "execute_result"
    }
   ],
   "source": [
    "print(product_reorder_ratio)\n",
    "product_reorder_ratio.describe()"
   ]
  },
  {
   "cell_type": "markdown",
   "metadata": {
    "id": "I10dEIAyldcO"
   },
   "source": [
    "Escribe aquí tus conclusiones. Con una descripción de los datos en promedio 0.38 productos se repiten en la compra de los usuarios. Y Entre el 2do y 3er quartil se nota que hay una inclinación entre 0.40 y 0.50 de los datos, indicando que de media una persona repite entre estos valores sus productos determinante en el compromiso que se establece entre una marca y los clientes. "
   ]
  },
  {
   "cell_type": "markdown",
   "metadata": {
    "id": "subject-boxing"
   },
   "source": [
    "### [C4] Para cada cliente, ¿qué proporción de sus productos ya los había pedido?"
   ]
  },
  {
   "cell_type": "code",
   "execution_count": 54,
   "metadata": {
    "id": "medical-couple",
    "scrolled": true
   },
   "outputs": [],
   "source": [
    "user_reorder_rate = df_op.groupby(['order_id','product_id'])['reordered'].sum().reset_index()\n",
    "user_orders = df_io[['order_id','user_id']]\n",
    "user_reordered = user_reorder_rate.merge(user_orders, on= 'order_id')\n",
    "user_reorder_ratio = user_reordered.groupby('user_id')['reordered'].mean()"
   ]
  },
  {
   "cell_type": "code",
   "execution_count": 55,
   "metadata": {
    "id": "8892e4b4"
   },
   "outputs": [
    {
     "name": "stdout",
     "output_type": "stream",
     "text": [
      "user_id\n",
      "2         0.038462\n",
      "4         0.000000\n",
      "5         0.666667\n",
      "6         0.000000\n",
      "7         0.928571\n",
      "            ...   \n",
      "206203    0.222222\n",
      "206206    0.714286\n",
      "206207    0.891304\n",
      "206208    0.696000\n",
      "206209    0.320000\n",
      "Name: reordered, Length: 149626, dtype: float64\n"
     ]
    },
    {
     "data": {
      "text/plain": [
       "count    149626.000000\n",
       "mean          0.494853\n",
       "std           0.292685\n",
       "min           0.000000\n",
       "25%           0.272727\n",
       "50%           0.500000\n",
       "75%           0.724138\n",
       "max           1.000000\n",
       "Name: reordered, dtype: float64"
      ]
     },
     "execution_count": 55,
     "metadata": {},
     "output_type": "execute_result"
    }
   ],
   "source": [
    "print(user_reorder_ratio)\n",
    "user_reorder_ratio.describe()"
   ]
  },
  {
   "cell_type": "markdown",
   "metadata": {
    "id": "BgJSvXDsleXz"
   },
   "source": [
    "Escribe aquí tus conclusiones. Entre los usuarios de promedio el 0.49 repite sus productos que ya ha adquirido, y muy fuertemente repetirá la compra si ya realizó una anteriormente."
   ]
  },
  {
   "cell_type": "markdown",
   "metadata": {
    "id": "92d35137"
   },
   "source": [
    "### [C5] ¿Cuáles son los 20 principales artículos que las personas ponen primero en sus carritos?"
   ]
  },
  {
   "cell_type": "code",
   "execution_count": 56,
   "metadata": {
    "id": "0ae57274",
    "scrolled": true
   },
   "outputs": [],
   "source": [
    "first_in_cart = df_op[df_op['add_to_cart_order']==1]\n",
    "first_counts = first_in_cart['product_id'].value_counts().head(20)\n",
    "first_named = first_counts.reset_index().merge(df_p, left_on = 'index', right_on ='product_id')[['product_id_x','product_name','product_id_y']]"
   ]
  },
  {
   "cell_type": "code",
   "execution_count": 57,
   "metadata": {
    "id": "forty-netherlands",
    "scrolled": true
   },
   "outputs": [
    {
     "data": {
      "image/png": "[encoded data removed]",
      "text/plain": [
       "<Figure size 864x432 with 1 Axes>"
      ]
     },
     "metadata": {
      "needs_background": "light"
     },
     "output_type": "display_data"
    }
   ],
   "source": [
    "plt.figure(figsize=(12,6))\n",
    "sns.barplot(x='product_id_y', y='product_name', data=first_named, palette='coolwarm')\n",
    "plt.title('Top 20 productos añadidos primero al carrito')\n",
    "plt.xlabel('Veces como primero')\n",
    "plt.ylabel('Producto')\n",
    "plt.tight_layout()\n",
    "plt.show()"
   ]
  },
  {
   "cell_type": "markdown",
   "metadata": {
    "id": "28ce9872"
   },
   "source": [
    "Escribe aquí tus conclusiones. En el top de productos se puede observar que el producto 'organic half & half' es el principal producto añadido al carrito, seguido del aguacate, y sprarkling water, en su conjunto muestra las primeras decisiones de compra de los usuarios en un marco general. "
   ]
  },
  {
   "cell_type": "markdown",
   "metadata": {
    "id": "uITbFCEoDosC"
   },
   "source": [
    "### Conclusion general del proyecto:"
   ]
  },
  {
   "cell_type": "markdown",
   "metadata": {
    "id": "Nk-4GS7mDwqY"
   },
   "source": [
    "Analizar los datos de comprar de los usuarios es importe porque se obtienen resultados cercanos a la realidad y al comportamiento del consumidor. Dichos resultados pueden favorecer campañas de marketing para afianzar la fidelidad de los usuarios hacia las marcas, o inclusive saber que tan comprobable es que un usuario acepte un nuevo producto en el mercado y sobre que características se deben de basar los diseños de investigación y desarrollo."
   ]
  }
 ],
 "metadata": {
  "ExecuteTimeLog": [
   {
    "duration": 317,
    "start_time": "2025-03-26T05:00:51.658Z"
   },
   {
    "duration": 181,
    "start_time": "2025-03-28T02:15:54.060Z"
   },
   {
    "duration": 317,
    "start_time": "2025-03-28T02:15:56.962Z"
   },
   {
    "duration": 5,
    "start_time": "2025-03-28T02:15:57.469Z"
   },
   {
    "duration": 152,
    "start_time": "2025-03-28T02:16:16.359Z"
   },
   {
    "duration": 12,
    "start_time": "2025-03-28T02:16:17.298Z"
   },
   {
    "duration": 287,
    "start_time": "2025-03-28T02:35:29.954Z"
   },
   {
    "duration": 992,
    "start_time": "2025-03-28T02:35:30.243Z"
   },
   {
    "duration": 11,
    "start_time": "2025-03-28T02:35:31.237Z"
   },
   {
    "duration": 22,
    "start_time": "2025-03-28T02:35:31.250Z"
   },
   {
    "duration": 7,
    "start_time": "2025-03-28T02:35:31.274Z"
   },
   {
    "duration": 7,
    "start_time": "2025-03-28T02:35:31.284Z"
   },
   {
    "duration": 7,
    "start_time": "2025-03-28T02:35:31.293Z"
   },
   {
    "duration": 3,
    "start_time": "2025-03-28T02:35:31.301Z"
   },
   {
    "duration": 2,
    "start_time": "2025-03-28T02:35:31.306Z"
   },
   {
    "duration": 3,
    "start_time": "2025-03-28T02:35:31.311Z"
   },
   {
    "duration": 3,
    "start_time": "2025-03-28T02:35:31.315Z"
   },
   {
    "duration": 3,
    "start_time": "2025-03-28T02:35:31.319Z"
   },
   {
    "duration": 47,
    "start_time": "2025-03-28T02:35:31.323Z"
   },
   {
    "duration": 4,
    "start_time": "2025-03-28T02:35:31.371Z"
   },
   {
    "duration": 3,
    "start_time": "2025-03-28T02:35:31.376Z"
   },
   {
    "duration": 4,
    "start_time": "2025-03-28T02:35:31.381Z"
   },
   {
    "duration": 2,
    "start_time": "2025-03-28T02:35:31.388Z"
   },
   {
    "duration": 3,
    "start_time": "2025-03-28T02:35:31.392Z"
   },
   {
    "duration": 3,
    "start_time": "2025-03-28T02:35:31.396Z"
   },
   {
    "duration": 3,
    "start_time": "2025-03-28T02:35:31.401Z"
   },
   {
    "duration": 3,
    "start_time": "2025-03-28T02:35:31.406Z"
   },
   {
    "duration": 3,
    "start_time": "2025-03-28T02:35:31.410Z"
   },
   {
    "duration": 4,
    "start_time": "2025-03-28T02:35:31.414Z"
   },
   {
    "duration": 4,
    "start_time": "2025-03-28T02:35:31.419Z"
   },
   {
    "duration": 3,
    "start_time": "2025-03-28T02:35:31.425Z"
   },
   {
    "duration": 3,
    "start_time": "2025-03-28T02:35:31.429Z"
   },
   {
    "duration": 39,
    "start_time": "2025-03-28T02:35:31.433Z"
   },
   {
    "duration": 3,
    "start_time": "2025-03-28T02:35:31.475Z"
   },
   {
    "duration": 3,
    "start_time": "2025-03-28T02:35:31.479Z"
   },
   {
    "duration": 3,
    "start_time": "2025-03-28T02:35:31.484Z"
   },
   {
    "duration": 4,
    "start_time": "2025-03-28T02:35:31.488Z"
   },
   {
    "duration": 3,
    "start_time": "2025-03-28T02:35:31.493Z"
   },
   {
    "duration": 3,
    "start_time": "2025-03-28T02:35:31.497Z"
   },
   {
    "duration": 3,
    "start_time": "2025-03-28T02:35:31.502Z"
   },
   {
    "duration": 310,
    "start_time": "2025-03-28T04:26:58.637Z"
   },
   {
    "duration": 1303,
    "start_time": "2025-03-28T04:26:58.952Z"
   },
   {
    "duration": 12,
    "start_time": "2025-03-28T04:27:00.261Z"
   },
   {
    "duration": 11,
    "start_time": "2025-03-28T04:27:00.275Z"
   },
   {
    "duration": 7,
    "start_time": "2025-03-28T04:27:00.288Z"
   },
   {
    "duration": 8,
    "start_time": "2025-03-28T04:27:00.297Z"
   },
   {
    "duration": 6,
    "start_time": "2025-03-28T04:27:00.307Z"
   },
   {
    "duration": 3,
    "start_time": "2025-03-28T04:27:00.324Z"
   },
   {
    "duration": 10,
    "start_time": "2025-03-28T04:27:00.329Z"
   },
   {
    "duration": 9,
    "start_time": "2025-03-28T04:27:00.342Z"
   },
   {
    "duration": 13,
    "start_time": "2025-03-28T04:27:00.352Z"
   },
   {
    "duration": 3,
    "start_time": "2025-03-28T04:27:00.366Z"
   },
   {
    "duration": 3,
    "start_time": "2025-03-28T04:27:00.371Z"
   },
   {
    "duration": 2,
    "start_time": "2025-03-28T04:27:00.376Z"
   },
   {
    "duration": 3,
    "start_time": "2025-03-28T04:27:00.380Z"
   },
   {
    "duration": 2,
    "start_time": "2025-03-28T04:27:00.385Z"
   },
   {
    "duration": 3,
    "start_time": "2025-03-28T04:27:00.388Z"
   },
   {
    "duration": 2,
    "start_time": "2025-03-28T04:27:00.393Z"
   },
   {
    "duration": 3,
    "start_time": "2025-03-28T04:27:00.397Z"
   },
   {
    "duration": 2,
    "start_time": "2025-03-28T04:27:00.402Z"
   },
   {
    "duration": 9,
    "start_time": "2025-03-28T04:27:00.437Z"
   },
   {
    "duration": 2,
    "start_time": "2025-03-28T04:27:00.448Z"
   },
   {
    "duration": 3,
    "start_time": "2025-03-28T04:27:00.452Z"
   },
   {
    "duration": 4,
    "start_time": "2025-03-28T04:27:00.456Z"
   },
   {
    "duration": 3,
    "start_time": "2025-03-28T04:27:00.464Z"
   },
   {
    "duration": 2,
    "start_time": "2025-03-28T04:27:00.469Z"
   },
   {
    "duration": 3,
    "start_time": "2025-03-28T04:27:00.473Z"
   },
   {
    "duration": 2,
    "start_time": "2025-03-28T04:27:00.480Z"
   },
   {
    "duration": 3,
    "start_time": "2025-03-28T04:27:00.484Z"
   },
   {
    "duration": 3,
    "start_time": "2025-03-28T04:27:00.488Z"
   },
   {
    "duration": 4,
    "start_time": "2025-03-28T04:27:00.492Z"
   },
   {
    "duration": 3,
    "start_time": "2025-03-28T04:27:00.497Z"
   },
   {
    "duration": 3,
    "start_time": "2025-03-28T04:27:00.501Z"
   },
   {
    "duration": 41,
    "start_time": "2025-03-28T04:27:00.506Z"
   },
   {
    "duration": 229,
    "start_time": "2025-03-28T04:27:13.209Z"
   },
   {
    "duration": 27,
    "start_time": "2025-03-28T04:27:22.473Z"
   },
   {
    "duration": 351,
    "start_time": "2025-03-28T21:29:01.663Z"
   },
   {
    "duration": 1049,
    "start_time": "2025-03-28T21:29:02.016Z"
   },
   {
    "duration": 16,
    "start_time": "2025-03-28T21:29:03.067Z"
   },
   {
    "duration": 26,
    "start_time": "2025-03-28T21:29:03.086Z"
   },
   {
    "duration": 11,
    "start_time": "2025-03-28T21:29:03.114Z"
   },
   {
    "duration": 9,
    "start_time": "2025-03-28T21:29:03.127Z"
   },
   {
    "duration": 28,
    "start_time": "2025-03-28T21:29:03.138Z"
   },
   {
    "duration": 3,
    "start_time": "2025-03-28T21:29:03.167Z"
   },
   {
    "duration": 3,
    "start_time": "2025-03-28T21:29:03.172Z"
   },
   {
    "duration": 2,
    "start_time": "2025-03-28T21:29:03.179Z"
   },
   {
    "duration": 2,
    "start_time": "2025-03-28T21:29:03.212Z"
   },
   {
    "duration": 2,
    "start_time": "2025-03-28T21:29:03.216Z"
   },
   {
    "duration": 3,
    "start_time": "2025-03-28T21:29:03.220Z"
   },
   {
    "duration": 3,
    "start_time": "2025-03-28T21:29:03.224Z"
   },
   {
    "duration": 3,
    "start_time": "2025-03-28T21:29:03.228Z"
   },
   {
    "duration": 3,
    "start_time": "2025-03-28T21:29:03.233Z"
   },
   {
    "duration": 3,
    "start_time": "2025-03-28T21:29:03.237Z"
   },
   {
    "duration": 2,
    "start_time": "2025-03-28T21:29:03.242Z"
   },
   {
    "duration": 3,
    "start_time": "2025-03-28T21:29:03.246Z"
   },
   {
    "duration": 3,
    "start_time": "2025-03-28T21:29:03.250Z"
   },
   {
    "duration": 2,
    "start_time": "2025-03-28T21:29:03.255Z"
   },
   {
    "duration": 53,
    "start_time": "2025-03-28T21:29:03.259Z"
   },
   {
    "duration": 3,
    "start_time": "2025-03-28T21:29:03.314Z"
   },
   {
    "duration": 3,
    "start_time": "2025-03-28T21:29:03.318Z"
   },
   {
    "duration": 4,
    "start_time": "2025-03-28T21:29:03.322Z"
   },
   {
    "duration": 3,
    "start_time": "2025-03-28T21:29:03.327Z"
   },
   {
    "duration": 4,
    "start_time": "2025-03-28T21:29:03.331Z"
   },
   {
    "duration": 2,
    "start_time": "2025-03-28T21:29:03.339Z"
   },
   {
    "duration": 3,
    "start_time": "2025-03-28T21:29:03.342Z"
   },
   {
    "duration": 3,
    "start_time": "2025-03-28T21:29:03.347Z"
   },
   {
    "duration": 3,
    "start_time": "2025-03-28T21:29:03.351Z"
   },
   {
    "duration": 4,
    "start_time": "2025-03-28T21:29:03.355Z"
   },
   {
    "duration": 4,
    "start_time": "2025-03-28T21:29:03.360Z"
   },
   {
    "duration": 7,
    "start_time": "2025-03-28T21:29:03.365Z"
   },
   {
    "duration": 82,
    "start_time": "2025-03-28T22:01:11.812Z"
   },
   {
    "duration": 171,
    "start_time": "2025-03-28T22:02:04.689Z"
   },
   {
    "duration": 244,
    "start_time": "2025-03-28T22:02:56.697Z"
   },
   {
    "duration": 153,
    "start_time": "2025-03-28T22:03:04.432Z"
   },
   {
    "duration": 170,
    "start_time": "2025-03-28T22:05:06.237Z"
   },
   {
    "duration": 16,
    "start_time": "2025-03-28T22:10:19.931Z"
   },
   {
    "duration": 15,
    "start_time": "2025-03-28T22:15:06.484Z"
   },
   {
    "duration": 12,
    "start_time": "2025-03-28T22:15:42.269Z"
   },
   {
    "duration": 363,
    "start_time": "2025-03-29T20:24:47.191Z"
   },
   {
    "duration": 1646,
    "start_time": "2025-03-29T20:24:47.557Z"
   },
   {
    "duration": 20,
    "start_time": "2025-03-29T20:24:49.205Z"
   },
   {
    "duration": 27,
    "start_time": "2025-03-29T20:24:49.228Z"
   },
   {
    "duration": 27,
    "start_time": "2025-03-29T20:24:49.262Z"
   },
   {
    "duration": 20,
    "start_time": "2025-03-29T20:24:49.293Z"
   },
   {
    "duration": 55,
    "start_time": "2025-03-29T20:24:49.318Z"
   },
   {
    "duration": 330,
    "start_time": "2025-03-29T20:24:49.379Z"
   },
   {
    "duration": 157,
    "start_time": "2025-03-29T20:24:49.712Z"
   },
   {
    "duration": 0,
    "start_time": "2025-03-29T20:24:49.873Z"
   },
   {
    "duration": 0,
    "start_time": "2025-03-29T20:24:49.874Z"
   },
   {
    "duration": 0,
    "start_time": "2025-03-29T20:24:49.876Z"
   },
   {
    "duration": 0,
    "start_time": "2025-03-29T20:24:49.877Z"
   },
   {
    "duration": 0,
    "start_time": "2025-03-29T20:24:49.879Z"
   },
   {
    "duration": 1,
    "start_time": "2025-03-29T20:24:49.881Z"
   },
   {
    "duration": 0,
    "start_time": "2025-03-29T20:24:49.883Z"
   },
   {
    "duration": 0,
    "start_time": "2025-03-29T20:24:49.885Z"
   },
   {
    "duration": 0,
    "start_time": "2025-03-29T20:24:49.886Z"
   },
   {
    "duration": 0,
    "start_time": "2025-03-29T20:24:49.887Z"
   },
   {
    "duration": 0,
    "start_time": "2025-03-29T20:24:49.888Z"
   },
   {
    "duration": 0,
    "start_time": "2025-03-29T20:24:49.888Z"
   },
   {
    "duration": 0,
    "start_time": "2025-03-29T20:24:49.889Z"
   },
   {
    "duration": 0,
    "start_time": "2025-03-29T20:24:49.902Z"
   },
   {
    "duration": 0,
    "start_time": "2025-03-29T20:24:49.902Z"
   },
   {
    "duration": 0,
    "start_time": "2025-03-29T20:24:49.903Z"
   },
   {
    "duration": 0,
    "start_time": "2025-03-29T20:24:49.904Z"
   },
   {
    "duration": 0,
    "start_time": "2025-03-29T20:24:49.904Z"
   },
   {
    "duration": 0,
    "start_time": "2025-03-29T20:24:49.905Z"
   },
   {
    "duration": 0,
    "start_time": "2025-03-29T20:24:49.905Z"
   },
   {
    "duration": 0,
    "start_time": "2025-03-29T20:24:49.920Z"
   },
   {
    "duration": 0,
    "start_time": "2025-03-29T20:24:49.920Z"
   },
   {
    "duration": 0,
    "start_time": "2025-03-29T20:24:49.921Z"
   },
   {
    "duration": 0,
    "start_time": "2025-03-29T20:24:49.922Z"
   },
   {
    "duration": 0,
    "start_time": "2025-03-29T20:24:49.923Z"
   },
   {
    "duration": 5,
    "start_time": "2025-03-29T20:35:43.478Z"
   },
   {
    "duration": 6,
    "start_time": "2025-03-29T20:36:36.832Z"
   },
   {
    "duration": 391,
    "start_time": "2025-03-29T20:48:54.835Z"
   },
   {
    "duration": 330,
    "start_time": "2025-03-29T20:49:14.785Z"
   },
   {
    "duration": 277,
    "start_time": "2025-03-29T20:50:00.835Z"
   },
   {
    "duration": 284,
    "start_time": "2025-03-29T20:50:19.795Z"
   },
   {
    "duration": 5,
    "start_time": "2025-03-29T20:53:05.376Z"
   },
   {
    "duration": 5,
    "start_time": "2025-03-29T20:53:13.665Z"
   },
   {
    "duration": 8,
    "start_time": "2025-03-29T20:53:55.915Z"
   },
   {
    "duration": 10,
    "start_time": "2025-03-29T20:54:26.257Z"
   },
   {
    "duration": 9,
    "start_time": "2025-03-29T21:37:31.034Z"
   },
   {
    "duration": 6,
    "start_time": "2025-03-29T21:37:44.135Z"
   },
   {
    "duration": 4,
    "start_time": "2025-03-29T21:38:54.386Z"
   },
   {
    "duration": 9,
    "start_time": "2025-03-29T21:39:05.707Z"
   },
   {
    "duration": 305,
    "start_time": "2025-03-31T14:50:38.366Z"
   },
   {
    "duration": 1039,
    "start_time": "2025-03-31T14:50:38.673Z"
   },
   {
    "duration": 18,
    "start_time": "2025-03-31T14:50:39.714Z"
   },
   {
    "duration": 9,
    "start_time": "2025-03-31T14:50:39.734Z"
   },
   {
    "duration": 8,
    "start_time": "2025-03-31T14:50:39.744Z"
   },
   {
    "duration": 8,
    "start_time": "2025-03-31T14:50:39.754Z"
   },
   {
    "duration": 27,
    "start_time": "2025-03-31T14:50:39.764Z"
   },
   {
    "duration": 282,
    "start_time": "2025-03-31T14:50:39.824Z"
   },
   {
    "duration": 9,
    "start_time": "2025-03-31T14:50:40.108Z"
   },
   {
    "duration": 2,
    "start_time": "2025-03-31T14:50:40.123Z"
   },
   {
    "duration": 2,
    "start_time": "2025-03-31T14:50:40.127Z"
   },
   {
    "duration": 2,
    "start_time": "2025-03-31T14:50:40.133Z"
   },
   {
    "duration": 3,
    "start_time": "2025-03-31T14:50:40.137Z"
   },
   {
    "duration": 3,
    "start_time": "2025-03-31T14:50:40.141Z"
   },
   {
    "duration": 3,
    "start_time": "2025-03-31T14:50:40.146Z"
   },
   {
    "duration": 3,
    "start_time": "2025-03-31T14:50:40.151Z"
   },
   {
    "duration": 2,
    "start_time": "2025-03-31T14:50:40.156Z"
   },
   {
    "duration": 3,
    "start_time": "2025-03-31T14:50:40.160Z"
   },
   {
    "duration": 3,
    "start_time": "2025-03-31T14:50:40.164Z"
   },
   {
    "duration": 3,
    "start_time": "2025-03-31T14:50:40.169Z"
   },
   {
    "duration": 51,
    "start_time": "2025-03-31T14:50:40.173Z"
   },
   {
    "duration": 4,
    "start_time": "2025-03-31T14:50:40.226Z"
   },
   {
    "duration": 2,
    "start_time": "2025-03-31T14:50:40.233Z"
   },
   {
    "duration": 3,
    "start_time": "2025-03-31T14:50:40.237Z"
   },
   {
    "duration": 3,
    "start_time": "2025-03-31T14:50:40.242Z"
   },
   {
    "duration": 3,
    "start_time": "2025-03-31T14:50:40.247Z"
   },
   {
    "duration": 2,
    "start_time": "2025-03-31T14:50:40.252Z"
   },
   {
    "duration": 2,
    "start_time": "2025-03-31T14:50:40.258Z"
   },
   {
    "duration": 2,
    "start_time": "2025-03-31T14:50:40.262Z"
   },
   {
    "duration": 3,
    "start_time": "2025-03-31T14:50:40.266Z"
   },
   {
    "duration": 3,
    "start_time": "2025-03-31T14:50:40.270Z"
   },
   {
    "duration": 3,
    "start_time": "2025-03-31T14:50:40.275Z"
   },
   {
    "duration": 2,
    "start_time": "2025-03-31T14:50:40.281Z"
   },
   {
    "duration": 41,
    "start_time": "2025-03-31T14:50:40.284Z"
   },
   {
    "duration": 204,
    "start_time": "2025-03-31T14:53:59.865Z"
   },
   {
    "duration": 277,
    "start_time": "2025-03-31T15:03:37.191Z"
   },
   {
    "duration": 277,
    "start_time": "2025-03-31T15:04:09.806Z"
   },
   {
    "duration": 191,
    "start_time": "2025-03-31T15:05:23.800Z"
   },
   {
    "duration": 20,
    "start_time": "2025-03-31T15:05:54.764Z"
   },
   {
    "duration": 11,
    "start_time": "2025-03-31T15:06:12.316Z"
   },
   {
    "duration": 11,
    "start_time": "2025-03-31T15:07:12.971Z"
   },
   {
    "duration": 12,
    "start_time": "2025-03-31T15:17:19.860Z"
   },
   {
    "duration": 15,
    "start_time": "2025-03-31T15:18:11.104Z"
   },
   {
    "duration": 327,
    "start_time": "2025-04-01T01:04:17.831Z"
   },
   {
    "duration": 1015,
    "start_time": "2025-04-01T01:04:18.161Z"
   },
   {
    "duration": 11,
    "start_time": "2025-04-01T01:04:19.180Z"
   },
   {
    "duration": 10,
    "start_time": "2025-04-01T01:04:19.193Z"
   },
   {
    "duration": 21,
    "start_time": "2025-04-01T01:04:19.205Z"
   },
   {
    "duration": 8,
    "start_time": "2025-04-01T01:04:19.228Z"
   },
   {
    "duration": 26,
    "start_time": "2025-04-01T01:04:19.237Z"
   },
   {
    "duration": 259,
    "start_time": "2025-04-01T01:04:19.265Z"
   },
   {
    "duration": 13,
    "start_time": "2025-04-01T01:04:19.526Z"
   },
   {
    "duration": 2,
    "start_time": "2025-04-01T01:04:19.542Z"
   },
   {
    "duration": 3,
    "start_time": "2025-04-01T01:04:19.546Z"
   },
   {
    "duration": 3,
    "start_time": "2025-04-01T01:04:19.550Z"
   },
   {
    "duration": 3,
    "start_time": "2025-04-01T01:04:19.555Z"
   },
   {
    "duration": 3,
    "start_time": "2025-04-01T01:04:19.559Z"
   },
   {
    "duration": 3,
    "start_time": "2025-04-01T01:04:19.564Z"
   },
   {
    "duration": 4,
    "start_time": "2025-04-01T01:04:19.568Z"
   },
   {
    "duration": 3,
    "start_time": "2025-04-01T01:04:19.573Z"
   },
   {
    "duration": 5,
    "start_time": "2025-04-01T01:04:19.578Z"
   },
   {
    "duration": 42,
    "start_time": "2025-04-01T01:04:19.585Z"
   },
   {
    "duration": 3,
    "start_time": "2025-04-01T01:04:19.630Z"
   },
   {
    "duration": 3,
    "start_time": "2025-04-01T01:04:19.635Z"
   },
   {
    "duration": 3,
    "start_time": "2025-04-01T01:04:19.639Z"
   },
   {
    "duration": 3,
    "start_time": "2025-04-01T01:04:19.643Z"
   },
   {
    "duration": 3,
    "start_time": "2025-04-01T01:04:19.648Z"
   },
   {
    "duration": 3,
    "start_time": "2025-04-01T01:04:19.652Z"
   },
   {
    "duration": 2,
    "start_time": "2025-04-01T01:04:19.657Z"
   },
   {
    "duration": 3,
    "start_time": "2025-04-01T01:04:19.661Z"
   },
   {
    "duration": 2,
    "start_time": "2025-04-01T01:04:19.668Z"
   },
   {
    "duration": 3,
    "start_time": "2025-04-01T01:04:19.672Z"
   },
   {
    "duration": 48,
    "start_time": "2025-04-01T01:04:19.676Z"
   },
   {
    "duration": 2,
    "start_time": "2025-04-01T01:04:19.726Z"
   },
   {
    "duration": 3,
    "start_time": "2025-04-01T01:04:19.730Z"
   },
   {
    "duration": 4,
    "start_time": "2025-04-01T01:04:19.734Z"
   },
   {
    "duration": 2,
    "start_time": "2025-04-01T01:04:19.740Z"
   },
   {
    "duration": 114,
    "start_time": "2025-04-01T01:21:07.319Z"
   },
   {
    "duration": 83,
    "start_time": "2025-04-01T01:24:47.121Z"
   },
   {
    "duration": 28,
    "start_time": "2025-04-01T01:26:39.503Z"
   },
   {
    "duration": 15,
    "start_time": "2025-04-01T02:07:29.540Z"
   },
   {
    "duration": 4,
    "start_time": "2025-04-01T02:10:39.577Z"
   },
   {
    "duration": 756,
    "start_time": "2025-04-01T02:15:02.174Z"
   },
   {
    "duration": 20,
    "start_time": "2025-04-01T02:15:29.442Z"
   },
   {
    "duration": 21,
    "start_time": "2025-04-01T02:16:07.413Z"
   },
   {
    "duration": 20,
    "start_time": "2025-04-01T02:16:24.657Z"
   },
   {
    "duration": 16,
    "start_time": "2025-04-01T03:34:10.060Z"
   },
   {
    "duration": 20,
    "start_time": "2025-04-01T03:34:44.582Z"
   },
   {
    "duration": 16,
    "start_time": "2025-04-01T03:35:10.066Z"
   },
   {
    "duration": 20,
    "start_time": "2025-04-01T03:37:26.484Z"
   },
   {
    "duration": 32,
    "start_time": "2025-04-01T03:39:52.461Z"
   },
   {
    "duration": 24,
    "start_time": "2025-04-01T03:40:02.716Z"
   },
   {
    "duration": 22,
    "start_time": "2025-04-01T03:41:37.123Z"
   },
   {
    "duration": 34,
    "start_time": "2025-04-01T03:42:00.058Z"
   },
   {
    "duration": 18,
    "start_time": "2025-04-01T03:42:23.275Z"
   },
   {
    "duration": 24,
    "start_time": "2025-04-01T03:44:09.354Z"
   },
   {
    "duration": 43,
    "start_time": "2025-04-01T03:45:33.598Z"
   },
   {
    "duration": 19,
    "start_time": "2025-04-01T03:45:40.816Z"
   },
   {
    "duration": 19,
    "start_time": "2025-04-01T03:47:25.140Z"
   },
   {
    "duration": 17,
    "start_time": "2025-04-01T03:47:33.935Z"
   },
   {
    "duration": 4,
    "start_time": "2025-04-01T03:53:39.694Z"
   },
   {
    "duration": 4,
    "start_time": "2025-04-01T04:01:56.488Z"
   },
   {
    "duration": 18,
    "start_time": "2025-04-01T04:07:12.798Z"
   },
   {
    "duration": 21,
    "start_time": "2025-04-01T04:08:02.851Z"
   },
   {
    "duration": 24,
    "start_time": "2025-04-01T04:12:36.637Z"
   },
   {
    "duration": 21,
    "start_time": "2025-04-01T04:12:50.965Z"
   },
   {
    "duration": 23,
    "start_time": "2025-04-01T04:13:41.029Z"
   },
   {
    "duration": 29,
    "start_time": "2025-04-01T04:13:54.468Z"
   },
   {
    "duration": 4,
    "start_time": "2025-04-01T04:18:30.264Z"
   },
   {
    "duration": 4,
    "start_time": "2025-04-01T04:23:13.088Z"
   },
   {
    "duration": 320,
    "start_time": "2025-04-01T05:11:05.681Z"
   },
   {
    "duration": 1032,
    "start_time": "2025-04-01T05:11:06.003Z"
   },
   {
    "duration": 11,
    "start_time": "2025-04-01T05:11:07.037Z"
   },
   {
    "duration": 10,
    "start_time": "2025-04-01T05:11:07.050Z"
   },
   {
    "duration": 26,
    "start_time": "2025-04-01T05:11:07.062Z"
   },
   {
    "duration": 8,
    "start_time": "2025-04-01T05:11:07.090Z"
   },
   {
    "duration": 29,
    "start_time": "2025-04-01T05:11:07.100Z"
   },
   {
    "duration": 299,
    "start_time": "2025-04-01T05:11:07.131Z"
   },
   {
    "duration": 15,
    "start_time": "2025-04-01T05:11:07.432Z"
   },
   {
    "duration": 121,
    "start_time": "2025-04-01T05:11:07.449Z"
   },
   {
    "duration": 96,
    "start_time": "2025-04-01T05:11:07.572Z"
   },
   {
    "duration": 33,
    "start_time": "2025-04-01T05:11:07.670Z"
   },
   {
    "duration": 11,
    "start_time": "2025-04-01T05:11:07.705Z"
   },
   {
    "duration": 3,
    "start_time": "2025-04-01T05:11:07.718Z"
   },
   {
    "duration": 19,
    "start_time": "2025-04-01T05:11:07.723Z"
   },
   {
    "duration": 53,
    "start_time": "2025-04-01T05:11:07.744Z"
   },
   {
    "duration": 3,
    "start_time": "2025-04-01T05:11:07.799Z"
   },
   {
    "duration": 4,
    "start_time": "2025-04-01T05:11:07.804Z"
   },
   {
    "duration": 3,
    "start_time": "2025-04-01T05:11:07.810Z"
   },
   {
    "duration": 3,
    "start_time": "2025-04-01T05:11:07.815Z"
   },
   {
    "duration": 3,
    "start_time": "2025-04-01T05:11:07.819Z"
   },
   {
    "duration": 3,
    "start_time": "2025-04-01T05:11:07.824Z"
   },
   {
    "duration": 3,
    "start_time": "2025-04-01T05:11:07.829Z"
   },
   {
    "duration": 3,
    "start_time": "2025-04-01T05:11:07.833Z"
   },
   {
    "duration": 3,
    "start_time": "2025-04-01T05:11:07.838Z"
   },
   {
    "duration": 2,
    "start_time": "2025-04-01T05:11:07.843Z"
   },
   {
    "duration": 2,
    "start_time": "2025-04-01T05:11:07.887Z"
   },
   {
    "duration": 2,
    "start_time": "2025-04-01T05:11:07.893Z"
   },
   {
    "duration": 2,
    "start_time": "2025-04-01T05:11:07.897Z"
   },
   {
    "duration": 4,
    "start_time": "2025-04-01T05:11:07.901Z"
   },
   {
    "duration": 4,
    "start_time": "2025-04-01T05:11:07.906Z"
   },
   {
    "duration": 3,
    "start_time": "2025-04-01T05:11:07.911Z"
   },
   {
    "duration": 3,
    "start_time": "2025-04-01T05:11:07.915Z"
   },
   {
    "duration": 3,
    "start_time": "2025-04-01T05:11:07.920Z"
   },
   {
    "duration": 326,
    "start_time": "2025-04-01T05:11:34.406Z"
   },
   {
    "duration": 890,
    "start_time": "2025-04-01T05:11:34.735Z"
   },
   {
    "duration": 12,
    "start_time": "2025-04-01T05:11:35.627Z"
   },
   {
    "duration": 11,
    "start_time": "2025-04-01T05:11:35.642Z"
   },
   {
    "duration": 32,
    "start_time": "2025-04-01T05:11:35.655Z"
   },
   {
    "duration": 8,
    "start_time": "2025-04-01T05:11:35.690Z"
   },
   {
    "duration": 29,
    "start_time": "2025-04-01T05:11:35.700Z"
   },
   {
    "duration": 296,
    "start_time": "2025-04-01T05:11:35.731Z"
   },
   {
    "duration": 14,
    "start_time": "2025-04-01T05:11:36.029Z"
   },
   {
    "duration": 111,
    "start_time": "2025-04-01T05:11:36.046Z"
   },
   {
    "duration": 89,
    "start_time": "2025-04-01T05:11:36.158Z"
   },
   {
    "duration": 27,
    "start_time": "2025-04-01T05:11:36.249Z"
   },
   {
    "duration": 11,
    "start_time": "2025-04-01T05:11:36.287Z"
   },
   {
    "duration": 3,
    "start_time": "2025-04-01T05:11:36.300Z"
   },
   {
    "duration": 18,
    "start_time": "2025-04-01T05:11:36.306Z"
   },
   {
    "duration": 22,
    "start_time": "2025-04-01T05:11:36.325Z"
   },
   {
    "duration": 4,
    "start_time": "2025-04-01T05:11:36.348Z"
   },
   {
    "duration": 35,
    "start_time": "2025-04-01T05:11:36.354Z"
   },
   {
    "duration": 4,
    "start_time": "2025-04-01T05:11:36.390Z"
   },
   {
    "duration": 3,
    "start_time": "2025-04-01T05:11:36.396Z"
   },
   {
    "duration": 2,
    "start_time": "2025-04-01T05:11:36.401Z"
   },
   {
    "duration": 3,
    "start_time": "2025-04-01T05:11:36.405Z"
   },
   {
    "duration": 3,
    "start_time": "2025-04-01T05:11:36.409Z"
   },
   {
    "duration": 4,
    "start_time": "2025-04-01T05:11:36.413Z"
   },
   {
    "duration": 4,
    "start_time": "2025-04-01T05:11:36.418Z"
   },
   {
    "duration": 3,
    "start_time": "2025-04-01T05:11:36.423Z"
   },
   {
    "duration": 2,
    "start_time": "2025-04-01T05:11:36.428Z"
   },
   {
    "duration": 2,
    "start_time": "2025-04-01T05:11:36.434Z"
   },
   {
    "duration": 50,
    "start_time": "2025-04-01T05:11:36.437Z"
   },
   {
    "duration": 4,
    "start_time": "2025-04-01T05:11:36.488Z"
   },
   {
    "duration": 3,
    "start_time": "2025-04-01T05:11:36.494Z"
   },
   {
    "duration": 2,
    "start_time": "2025-04-01T05:11:36.499Z"
   },
   {
    "duration": 3,
    "start_time": "2025-04-01T05:11:36.503Z"
   },
   {
    "duration": 3,
    "start_time": "2025-04-01T05:11:36.507Z"
   },
   {
    "duration": 906,
    "start_time": "2025-04-01T05:13:24.912Z"
   },
   {
    "duration": 117,
    "start_time": "2025-04-01T05:16:29.578Z"
   },
   {
    "duration": 110,
    "start_time": "2025-04-01T05:18:37.728Z"
   },
   {
    "duration": 129,
    "start_time": "2025-04-01T05:19:24.188Z"
   },
   {
    "duration": 342,
    "start_time": "2025-04-02T00:08:08.328Z"
   },
   {
    "duration": 1187,
    "start_time": "2025-04-02T00:08:08.672Z"
   },
   {
    "duration": 15,
    "start_time": "2025-04-02T00:08:09.861Z"
   },
   {
    "duration": 11,
    "start_time": "2025-04-02T00:08:09.879Z"
   },
   {
    "duration": 8,
    "start_time": "2025-04-02T00:08:09.891Z"
   },
   {
    "duration": 29,
    "start_time": "2025-04-02T00:08:09.901Z"
   },
   {
    "duration": 29,
    "start_time": "2025-04-02T00:08:09.932Z"
   },
   {
    "duration": 272,
    "start_time": "2025-04-02T00:08:09.963Z"
   },
   {
    "duration": 14,
    "start_time": "2025-04-02T00:08:10.237Z"
   },
   {
    "duration": 113,
    "start_time": "2025-04-02T00:08:10.255Z"
   },
   {
    "duration": 96,
    "start_time": "2025-04-02T00:08:10.370Z"
   },
   {
    "duration": 28,
    "start_time": "2025-04-02T00:08:10.468Z"
   },
   {
    "duration": 30,
    "start_time": "2025-04-02T00:08:10.497Z"
   },
   {
    "duration": 3,
    "start_time": "2025-04-02T00:08:10.529Z"
   },
   {
    "duration": 19,
    "start_time": "2025-04-02T00:08:10.533Z"
   },
   {
    "duration": 24,
    "start_time": "2025-04-02T00:08:10.554Z"
   },
   {
    "duration": 7,
    "start_time": "2025-04-02T00:08:10.590Z"
   },
   {
    "duration": 3,
    "start_time": "2025-04-02T00:08:10.599Z"
   },
   {
    "duration": 22,
    "start_time": "2025-04-02T00:08:10.604Z"
   },
   {
    "duration": 3,
    "start_time": "2025-04-02T00:08:10.628Z"
   },
   {
    "duration": 846,
    "start_time": "2025-04-02T00:08:10.633Z"
   },
   {
    "duration": 134,
    "start_time": "2025-04-02T00:08:11.481Z"
   },
   {
    "duration": 9,
    "start_time": "2025-04-02T00:08:11.616Z"
   },
   {
    "duration": 3,
    "start_time": "2025-04-02T00:08:11.627Z"
   },
   {
    "duration": 4,
    "start_time": "2025-04-02T00:08:11.631Z"
   },
   {
    "duration": 3,
    "start_time": "2025-04-02T00:08:11.637Z"
   },
   {
    "duration": 2,
    "start_time": "2025-04-02T00:08:11.642Z"
   },
   {
    "duration": 3,
    "start_time": "2025-04-02T00:08:11.649Z"
   },
   {
    "duration": 5,
    "start_time": "2025-04-02T00:08:11.654Z"
   },
   {
    "duration": 3,
    "start_time": "2025-04-02T00:08:11.661Z"
   },
   {
    "duration": 5,
    "start_time": "2025-04-02T00:08:11.666Z"
   },
   {
    "duration": 4,
    "start_time": "2025-04-02T00:08:11.675Z"
   },
   {
    "duration": 7,
    "start_time": "2025-04-02T00:08:11.681Z"
   },
   {
    "duration": 35,
    "start_time": "2025-04-02T00:08:11.690Z"
   },
   {
    "duration": 428,
    "start_time": "2025-04-02T00:09:03.716Z"
   },
   {
    "duration": 369,
    "start_time": "2025-04-02T00:09:24.110Z"
   },
   {
    "duration": 903,
    "start_time": "2025-04-02T00:12:48.287Z"
   },
   {
    "duration": 488,
    "start_time": "2025-04-02T00:13:14.625Z"
   },
   {
    "duration": 849,
    "start_time": "2025-04-02T00:13:24.041Z"
   },
   {
    "duration": 840,
    "start_time": "2025-04-02T00:21:37.717Z"
   },
   {
    "duration": 232,
    "start_time": "2025-04-02T00:24:28.944Z"
   },
   {
    "duration": 826,
    "start_time": "2025-04-02T00:24:58.824Z"
   },
   {
    "duration": 803,
    "start_time": "2025-04-02T00:30:30.940Z"
   },
   {
    "duration": 832,
    "start_time": "2025-04-02T00:30:39.710Z"
   },
   {
    "duration": 9290,
    "start_time": "2025-04-02T00:35:15.659Z"
   },
   {
    "duration": 9047,
    "start_time": "2025-04-02T00:36:11.093Z"
   },
   {
    "duration": 11648,
    "start_time": "2025-04-02T00:39:02.593Z"
   },
   {
    "duration": 9285,
    "start_time": "2025-04-02T00:39:46.702Z"
   },
   {
    "duration": 9543,
    "start_time": "2025-04-02T00:41:32.319Z"
   },
   {
    "duration": 9485,
    "start_time": "2025-04-02T01:18:09.910Z"
   },
   {
    "duration": 8894,
    "start_time": "2025-04-02T01:21:28.808Z"
   },
   {
    "duration": 9399,
    "start_time": "2025-04-02T01:28:44.366Z"
   },
   {
    "duration": 8848,
    "start_time": "2025-04-02T01:38:12.568Z"
   },
   {
    "duration": 8852,
    "start_time": "2025-04-02T01:39:51.319Z"
   },
   {
    "duration": 8370,
    "start_time": "2025-04-02T01:40:26.155Z"
   },
   {
    "duration": 9208,
    "start_time": "2025-04-02T01:40:45.300Z"
   },
   {
    "duration": 9659,
    "start_time": "2025-04-02T01:41:58.137Z"
   },
   {
    "duration": 8349,
    "start_time": "2025-04-02T01:42:58.591Z"
   },
   {
    "duration": 9359,
    "start_time": "2025-04-02T01:47:12.218Z"
   },
   {
    "duration": 8,
    "start_time": "2025-04-02T01:54:17.454Z"
   },
   {
    "duration": 4,
    "start_time": "2025-04-02T02:34:11.864Z"
   },
   {
    "duration": 4,
    "start_time": "2025-04-02T02:35:48.571Z"
   },
   {
    "duration": 65,
    "start_time": "2025-04-02T02:39:35.740Z"
   },
   {
    "duration": 7,
    "start_time": "2025-04-02T02:40:08.357Z"
   },
   {
    "duration": 335,
    "start_time": "2025-04-04T00:22:58.243Z"
   },
   {
    "duration": 1030,
    "start_time": "2025-04-04T00:22:58.580Z"
   },
   {
    "duration": 11,
    "start_time": "2025-04-04T00:22:59.612Z"
   },
   {
    "duration": 10,
    "start_time": "2025-04-04T00:22:59.632Z"
   },
   {
    "duration": 7,
    "start_time": "2025-04-04T00:22:59.644Z"
   },
   {
    "duration": 7,
    "start_time": "2025-04-04T00:22:59.653Z"
   },
   {
    "duration": 29,
    "start_time": "2025-04-04T00:22:59.662Z"
   },
   {
    "duration": 281,
    "start_time": "2025-04-04T00:22:59.693Z"
   },
   {
    "duration": 14,
    "start_time": "2025-04-04T00:22:59.976Z"
   },
   {
    "duration": 109,
    "start_time": "2025-04-04T00:22:59.994Z"
   },
   {
    "duration": 84,
    "start_time": "2025-04-04T00:23:00.105Z"
   },
   {
    "duration": 24,
    "start_time": "2025-04-04T00:23:00.191Z"
   },
   {
    "duration": 24,
    "start_time": "2025-04-04T00:23:00.217Z"
   },
   {
    "duration": 3,
    "start_time": "2025-04-04T00:23:00.242Z"
   },
   {
    "duration": 18,
    "start_time": "2025-04-04T00:23:00.247Z"
   },
   {
    "duration": 20,
    "start_time": "2025-04-04T00:23:00.267Z"
   },
   {
    "duration": 3,
    "start_time": "2025-04-04T00:23:00.289Z"
   },
   {
    "duration": 3,
    "start_time": "2025-04-04T00:23:00.294Z"
   },
   {
    "duration": 3,
    "start_time": "2025-04-04T00:23:00.331Z"
   },
   {
    "duration": 4,
    "start_time": "2025-04-04T00:23:00.336Z"
   },
   {
    "duration": 784,
    "start_time": "2025-04-04T00:23:00.342Z"
   },
   {
    "duration": 11142,
    "start_time": "2025-04-04T00:23:01.131Z"
   },
   {
    "duration": 8,
    "start_time": "2025-04-04T00:23:12.274Z"
   },
   {
    "duration": 4,
    "start_time": "2025-04-04T00:23:12.284Z"
   },
   {
    "duration": 4,
    "start_time": "2025-04-04T00:23:12.289Z"
   },
   {
    "duration": 6,
    "start_time": "2025-04-04T00:23:12.295Z"
   },
   {
    "duration": 3,
    "start_time": "2025-04-04T00:23:12.303Z"
   },
   {
    "duration": 3,
    "start_time": "2025-04-04T00:23:12.333Z"
   },
   {
    "duration": 3,
    "start_time": "2025-04-04T00:23:12.337Z"
   },
   {
    "duration": 3,
    "start_time": "2025-04-04T00:23:12.342Z"
   },
   {
    "duration": 3,
    "start_time": "2025-04-04T00:23:12.347Z"
   },
   {
    "duration": 3,
    "start_time": "2025-04-04T00:23:12.351Z"
   },
   {
    "duration": 3,
    "start_time": "2025-04-04T00:23:12.356Z"
   },
   {
    "duration": 3,
    "start_time": "2025-04-04T00:23:12.360Z"
   },
   {
    "duration": 7,
    "start_time": "2025-04-04T00:33:26.794Z"
   },
   {
    "duration": 7,
    "start_time": "2025-04-04T00:33:38.072Z"
   },
   {
    "duration": 16,
    "start_time": "2025-04-04T00:36:14.923Z"
   },
   {
    "duration": 8,
    "start_time": "2025-04-04T00:36:33.699Z"
   },
   {
    "duration": 177,
    "start_time": "2025-04-04T00:37:21.016Z"
   },
   {
    "duration": 5,
    "start_time": "2025-04-04T01:26:44.345Z"
   },
   {
    "duration": 7,
    "start_time": "2025-04-04T01:26:57.579Z"
   },
   {
    "duration": 3,
    "start_time": "2025-04-04T01:27:07.023Z"
   },
   {
    "duration": 7,
    "start_time": "2025-04-04T01:27:19.456Z"
   },
   {
    "duration": 8,
    "start_time": "2025-04-04T01:27:50.853Z"
   },
   {
    "duration": 205,
    "start_time": "2025-04-04T01:28:12.183Z"
   },
   {
    "duration": 566,
    "start_time": "2025-04-04T01:28:28.200Z"
   },
   {
    "duration": 15,
    "start_time": "2025-04-04T01:28:53.532Z"
   },
   {
    "duration": 15,
    "start_time": "2025-04-04T01:33:09.796Z"
   },
   {
    "duration": 260,
    "start_time": "2025-04-04T01:35:10.888Z"
   },
   {
    "duration": 164,
    "start_time": "2025-04-04T01:35:24.581Z"
   },
   {
    "duration": 180,
    "start_time": "2025-04-04T01:35:39.555Z"
   },
   {
    "duration": 9,
    "start_time": "2025-04-04T01:37:02.986Z"
   },
   {
    "duration": 45,
    "start_time": "2025-04-04T01:39:46.241Z"
   },
   {
    "duration": 12,
    "start_time": "2025-04-04T01:40:02.360Z"
   },
   {
    "duration": 180,
    "start_time": "2025-04-04T01:44:38.830Z"
   },
   {
    "duration": 355,
    "start_time": "2025-04-04T01:48:28.389Z"
   },
   {
    "duration": 452,
    "start_time": "2025-04-04T03:14:50.387Z"
   },
   {
    "duration": 289,
    "start_time": "2025-04-04T04:15:17.086Z"
   },
   {
    "duration": 52,
    "start_time": "2025-04-04T04:15:53.851Z"
   },
   {
    "duration": 12,
    "start_time": "2025-04-04T04:16:07.408Z"
   },
   {
    "duration": 12,
    "start_time": "2025-04-04T04:16:08.452Z"
   },
   {
    "duration": 12,
    "start_time": "2025-04-04T04:16:13.246Z"
   },
   {
    "duration": 309,
    "start_time": "2025-04-04T04:16:39.656Z"
   },
   {
    "duration": 876,
    "start_time": "2025-04-04T04:16:39.967Z"
   },
   {
    "duration": 12,
    "start_time": "2025-04-04T04:16:40.844Z"
   },
   {
    "duration": 9,
    "start_time": "2025-04-04T04:16:40.858Z"
   },
   {
    "duration": 7,
    "start_time": "2025-04-04T04:16:40.869Z"
   },
   {
    "duration": 7,
    "start_time": "2025-04-04T04:16:40.877Z"
   },
   {
    "duration": 54,
    "start_time": "2025-04-04T04:16:40.886Z"
   },
   {
    "duration": 250,
    "start_time": "2025-04-04T04:16:40.942Z"
   },
   {
    "duration": 15,
    "start_time": "2025-04-04T04:16:41.195Z"
   },
   {
    "duration": 106,
    "start_time": "2025-04-04T04:16:41.214Z"
   },
   {
    "duration": 87,
    "start_time": "2025-04-04T04:16:41.322Z"
   },
   {
    "duration": 34,
    "start_time": "2025-04-04T04:16:41.411Z"
   },
   {
    "duration": 12,
    "start_time": "2025-04-04T04:16:41.447Z"
   },
   {
    "duration": 3,
    "start_time": "2025-04-04T04:16:41.461Z"
   },
   {
    "duration": 18,
    "start_time": "2025-04-04T04:16:41.466Z"
   },
   {
    "duration": 45,
    "start_time": "2025-04-04T04:16:41.486Z"
   },
   {
    "duration": 3,
    "start_time": "2025-04-04T04:16:41.533Z"
   },
   {
    "duration": 4,
    "start_time": "2025-04-04T04:16:41.537Z"
   },
   {
    "duration": 4,
    "start_time": "2025-04-04T04:16:41.543Z"
   },
   {
    "duration": 4,
    "start_time": "2025-04-04T04:16:41.548Z"
   },
   {
    "duration": 779,
    "start_time": "2025-04-04T04:16:41.553Z"
   },
   {
    "duration": 11125,
    "start_time": "2025-04-04T04:16:42.334Z"
   },
   {
    "duration": 8,
    "start_time": "2025-04-04T04:16:53.461Z"
   },
   {
    "duration": 4,
    "start_time": "2025-04-04T04:16:53.471Z"
   },
   {
    "duration": 4,
    "start_time": "2025-04-04T04:16:53.476Z"
   },
   {
    "duration": 7,
    "start_time": "2025-04-04T04:16:53.482Z"
   },
   {
    "duration": 8,
    "start_time": "2025-04-04T04:16:53.491Z"
   },
   {
    "duration": 34,
    "start_time": "2025-04-04T04:16:53.531Z"
   },
   {
    "duration": 9,
    "start_time": "2025-04-04T04:16:53.568Z"
   },
   {
    "duration": 294,
    "start_time": "2025-04-04T04:16:53.578Z"
   },
   {
    "duration": 201,
    "start_time": "2025-04-04T04:16:53.874Z"
   },
   {
    "duration": 0,
    "start_time": "2025-04-04T04:16:54.077Z"
   },
   {
    "duration": 0,
    "start_time": "2025-04-04T04:16:54.078Z"
   },
   {
    "duration": 0,
    "start_time": "2025-04-04T04:16:54.079Z"
   },
   {
    "duration": 14,
    "start_time": "2025-04-04T04:17:30.757Z"
   },
   {
    "duration": 12,
    "start_time": "2025-04-04T04:18:09.630Z"
   },
   {
    "duration": 13,
    "start_time": "2025-04-04T04:18:19.184Z"
   },
   {
    "duration": 16,
    "start_time": "2025-04-04T04:18:34.430Z"
   },
   {
    "duration": 12,
    "start_time": "2025-04-04T04:18:40.777Z"
   },
   {
    "duration": 12,
    "start_time": "2025-04-04T04:21:02.421Z"
   },
   {
    "duration": 12,
    "start_time": "2025-04-04T04:21:09.328Z"
   },
   {
    "duration": 12,
    "start_time": "2025-04-04T04:21:24.440Z"
   },
   {
    "duration": 2,
    "start_time": "2025-04-04T04:21:32.450Z"
   },
   {
    "duration": 13,
    "start_time": "2025-04-04T04:21:35.848Z"
   },
   {
    "duration": 12,
    "start_time": "2025-04-04T04:22:13.992Z"
   },
   {
    "duration": 867,
    "start_time": "2025-04-04T04:22:30.144Z"
   },
   {
    "duration": 11,
    "start_time": "2025-04-04T04:22:35.394Z"
   },
   {
    "duration": 12,
    "start_time": "2025-04-04T04:22:36.365Z"
   },
   {
    "duration": 9,
    "start_time": "2025-04-04T04:22:39.669Z"
   },
   {
    "duration": 8,
    "start_time": "2025-04-04T04:22:42.026Z"
   },
   {
    "duration": 22,
    "start_time": "2025-04-04T04:22:43.804Z"
   },
   {
    "duration": 14,
    "start_time": "2025-04-04T04:23:02.501Z"
   },
   {
    "duration": 185,
    "start_time": "2025-04-04T04:23:33.659Z"
   },
   {
    "duration": 7,
    "start_time": "2025-04-04T04:24:06.390Z"
   },
   {
    "duration": 811,
    "start_time": "2025-04-04T04:24:17.554Z"
   },
   {
    "duration": 11,
    "start_time": "2025-04-04T04:24:18.368Z"
   },
   {
    "duration": 9,
    "start_time": "2025-04-04T04:24:18.472Z"
   },
   {
    "duration": 9,
    "start_time": "2025-04-04T04:24:19.294Z"
   },
   {
    "duration": 9,
    "start_time": "2025-04-04T04:24:20.079Z"
   },
   {
    "duration": 7,
    "start_time": "2025-04-04T04:24:21.632Z"
   },
   {
    "duration": 192,
    "start_time": "2025-04-04T04:24:37.998Z"
   },
   {
    "duration": 19,
    "start_time": "2025-04-04T04:25:07.804Z"
   },
   {
    "duration": 510,
    "start_time": "2025-04-04T04:29:16.222Z"
   },
   {
    "duration": 12,
    "start_time": "2025-04-04T05:20:49.779Z"
   },
   {
    "duration": 83,
    "start_time": "2025-04-04T05:24:22.534Z"
   },
   {
    "duration": 10,
    "start_time": "2025-04-04T05:24:39.240Z"
   },
   {
    "duration": 35,
    "start_time": "2025-04-04T05:42:01.614Z"
   },
   {
    "duration": 352,
    "start_time": "2025-04-04T20:34:52.022Z"
   },
   {
    "duration": 997,
    "start_time": "2025-04-04T20:34:52.376Z"
   },
   {
    "duration": 11,
    "start_time": "2025-04-04T20:34:53.375Z"
   },
   {
    "duration": 24,
    "start_time": "2025-04-04T20:34:53.388Z"
   },
   {
    "duration": 9,
    "start_time": "2025-04-04T20:34:53.413Z"
   },
   {
    "duration": 8,
    "start_time": "2025-04-04T20:34:53.423Z"
   },
   {
    "duration": 8,
    "start_time": "2025-04-04T20:34:53.433Z"
   },
   {
    "duration": 329,
    "start_time": "2025-04-04T20:34:53.443Z"
   },
   {
    "duration": 15,
    "start_time": "2025-04-04T20:34:53.774Z"
   },
   {
    "duration": 118,
    "start_time": "2025-04-04T20:34:53.805Z"
   },
   {
    "duration": 102,
    "start_time": "2025-04-04T20:34:53.925Z"
   },
   {
    "duration": 29,
    "start_time": "2025-04-04T20:34:54.029Z"
   },
   {
    "duration": 12,
    "start_time": "2025-04-04T20:34:54.060Z"
   },
   {
    "duration": 4,
    "start_time": "2025-04-04T20:34:54.074Z"
   },
   {
    "duration": 42,
    "start_time": "2025-04-04T20:34:54.080Z"
   },
   {
    "duration": 28,
    "start_time": "2025-04-04T20:34:54.123Z"
   },
   {
    "duration": 9,
    "start_time": "2025-04-04T20:34:54.155Z"
   },
   {
    "duration": 8,
    "start_time": "2025-04-04T20:34:54.167Z"
   },
   {
    "duration": 4,
    "start_time": "2025-04-04T20:34:54.178Z"
   },
   {
    "duration": 4,
    "start_time": "2025-04-04T20:34:54.183Z"
   },
   {
    "duration": 780,
    "start_time": "2025-04-04T20:34:54.206Z"
   },
   {
    "duration": 11118,
    "start_time": "2025-04-04T20:34:54.988Z"
   },
   {
    "duration": 8,
    "start_time": "2025-04-04T20:35:06.108Z"
   },
   {
    "duration": 4,
    "start_time": "2025-04-04T20:35:06.118Z"
   },
   {
    "duration": 4,
    "start_time": "2025-04-04T20:35:06.124Z"
   },
   {
    "duration": 7,
    "start_time": "2025-04-04T20:35:06.130Z"
   },
   {
    "duration": 6,
    "start_time": "2025-04-04T20:35:06.139Z"
   },
   {
    "duration": 67,
    "start_time": "2025-04-04T20:35:06.149Z"
   },
   {
    "duration": 10,
    "start_time": "2025-04-04T20:35:06.218Z"
   },
   {
    "duration": 18,
    "start_time": "2025-04-04T20:35:06.230Z"
   },
   {
    "duration": 23,
    "start_time": "2025-04-04T20:35:06.250Z"
   },
   {
    "duration": 38,
    "start_time": "2025-04-04T20:35:06.275Z"
   },
   {
    "duration": 3,
    "start_time": "2025-04-04T20:35:06.315Z"
   },
   {
    "duration": 2,
    "start_time": "2025-04-04T20:35:06.320Z"
   },
   {
    "duration": 384,
    "start_time": "2025-04-04T20:47:44.386Z"
   },
   {
    "duration": 180,
    "start_time": "2025-04-04T20:47:59.666Z"
   },
   {
    "duration": 319,
    "start_time": "2025-04-04T21:58:47.367Z"
   },
   {
    "duration": 1160,
    "start_time": "2025-04-04T21:58:47.688Z"
   },
   {
    "duration": 13,
    "start_time": "2025-04-04T21:58:48.850Z"
   },
   {
    "duration": 10,
    "start_time": "2025-04-04T21:58:48.865Z"
   },
   {
    "duration": 8,
    "start_time": "2025-04-04T21:58:48.876Z"
   },
   {
    "duration": 30,
    "start_time": "2025-04-04T21:58:48.886Z"
   },
   {
    "duration": 17,
    "start_time": "2025-04-04T21:58:48.918Z"
   },
   {
    "duration": 328,
    "start_time": "2025-04-04T21:58:48.940Z"
   },
   {
    "duration": 13,
    "start_time": "2025-04-04T21:58:49.270Z"
   },
   {
    "duration": 148,
    "start_time": "2025-04-04T21:58:49.286Z"
   },
   {
    "duration": 111,
    "start_time": "2025-04-04T21:58:49.436Z"
   },
   {
    "duration": 26,
    "start_time": "2025-04-04T21:58:49.549Z"
   },
   {
    "duration": 12,
    "start_time": "2025-04-04T21:58:49.577Z"
   },
   {
    "duration": 3,
    "start_time": "2025-04-04T21:58:49.590Z"
   },
   {
    "duration": 29,
    "start_time": "2025-04-04T21:58:49.614Z"
   },
   {
    "duration": 24,
    "start_time": "2025-04-04T21:58:49.645Z"
   },
   {
    "duration": 4,
    "start_time": "2025-04-04T21:58:49.670Z"
   },
   {
    "duration": 4,
    "start_time": "2025-04-04T21:58:49.675Z"
   },
   {
    "duration": 33,
    "start_time": "2025-04-04T21:58:49.680Z"
   },
   {
    "duration": 8,
    "start_time": "2025-04-04T21:58:49.714Z"
   },
   {
    "duration": 891,
    "start_time": "2025-04-04T21:58:49.724Z"
   },
   {
    "duration": 12811,
    "start_time": "2025-04-04T21:58:50.621Z"
   },
   {
    "duration": 11,
    "start_time": "2025-04-04T21:59:03.438Z"
   },
   {
    "duration": 4,
    "start_time": "2025-04-04T21:59:03.451Z"
   },
   {
    "duration": 4,
    "start_time": "2025-04-04T21:59:03.457Z"
   },
   {
    "duration": 7,
    "start_time": "2025-04-04T21:59:03.463Z"
   },
   {
    "duration": 8,
    "start_time": "2025-04-04T21:59:03.472Z"
   },
   {
    "duration": 70,
    "start_time": "2025-04-04T21:59:03.483Z"
   },
   {
    "duration": 10,
    "start_time": "2025-04-04T21:59:03.554Z"
   },
   {
    "duration": 19,
    "start_time": "2025-04-04T21:59:03.565Z"
   },
   {
    "duration": 59,
    "start_time": "2025-04-04T21:59:03.586Z"
   },
   {
    "duration": 10,
    "start_time": "2025-04-04T21:59:03.647Z"
   },
   {
    "duration": 319,
    "start_time": "2025-04-04T21:59:03.658Z"
   },
   {
    "duration": 0,
    "start_time": "2025-04-04T21:59:03.979Z"
   },
   {
    "duration": 202,
    "start_time": "2025-04-04T22:09:07.330Z"
   },
   {
    "duration": 201,
    "start_time": "2025-04-04T22:13:36.099Z"
   },
   {
    "duration": 613,
    "start_time": "2025-04-04T22:39:08.885Z"
   },
   {
    "duration": 467,
    "start_time": "2025-04-04T22:40:01.927Z"
   },
   {
    "duration": 350,
    "start_time": "2025-04-04T22:40:33.896Z"
   },
   {
    "duration": 464,
    "start_time": "2025-04-04T22:41:54.299Z"
   },
   {
    "duration": 9,
    "start_time": "2025-04-04T23:19:50.212Z"
   },
   {
    "duration": 7,
    "start_time": "2025-04-04T23:26:50.491Z"
   },
   {
    "duration": 6,
    "start_time": "2025-04-04T23:26:55.656Z"
   },
   {
    "duration": 2360,
    "start_time": "2025-04-05T15:36:29.300Z"
   },
   {
    "duration": 323,
    "start_time": "2025-04-05T15:36:56.900Z"
   },
   {
    "duration": 1031,
    "start_time": "2025-04-05T15:36:57.225Z"
   },
   {
    "duration": 13,
    "start_time": "2025-04-05T15:36:58.259Z"
   },
   {
    "duration": 11,
    "start_time": "2025-04-05T15:36:58.275Z"
   },
   {
    "duration": 9,
    "start_time": "2025-04-05T15:36:58.288Z"
   },
   {
    "duration": 34,
    "start_time": "2025-04-05T15:36:58.298Z"
   },
   {
    "duration": 8,
    "start_time": "2025-04-05T15:36:58.334Z"
   },
   {
    "duration": 318,
    "start_time": "2025-04-05T15:36:58.344Z"
   },
   {
    "duration": 17,
    "start_time": "2025-04-05T15:36:58.664Z"
   },
   {
    "duration": 129,
    "start_time": "2025-04-05T15:36:58.684Z"
   },
   {
    "duration": 97,
    "start_time": "2025-04-05T15:36:58.815Z"
   },
   {
    "duration": 29,
    "start_time": "2025-04-05T15:36:58.914Z"
   },
   {
    "duration": 14,
    "start_time": "2025-04-05T15:36:58.945Z"
   },
   {
    "duration": 4,
    "start_time": "2025-04-05T15:36:58.961Z"
   },
   {
    "duration": 24,
    "start_time": "2025-04-05T15:36:58.967Z"
   },
   {
    "duration": 54,
    "start_time": "2025-04-05T15:36:58.992Z"
   },
   {
    "duration": 4,
    "start_time": "2025-04-05T15:36:59.048Z"
   },
   {
    "duration": 4,
    "start_time": "2025-04-05T15:36:59.053Z"
   },
   {
    "duration": 4,
    "start_time": "2025-04-05T15:36:59.059Z"
   },
   {
    "duration": 4,
    "start_time": "2025-04-05T15:36:59.065Z"
   },
   {
    "duration": 912,
    "start_time": "2025-04-05T15:36:59.070Z"
   },
   {
    "duration": 12731,
    "start_time": "2025-04-05T15:36:59.984Z"
   },
   {
    "duration": 14,
    "start_time": "2025-04-05T15:37:12.717Z"
   },
   {
    "duration": 5,
    "start_time": "2025-04-05T15:37:12.733Z"
   },
   {
    "duration": 4,
    "start_time": "2025-04-05T15:37:12.740Z"
   },
   {
    "duration": 7,
    "start_time": "2025-04-05T15:37:12.746Z"
   },
   {
    "duration": 9,
    "start_time": "2025-04-05T15:37:12.755Z"
   },
   {
    "duration": 76,
    "start_time": "2025-04-05T15:37:12.769Z"
   },
   {
    "duration": 10,
    "start_time": "2025-04-05T15:37:12.847Z"
   },
   {
    "duration": 20,
    "start_time": "2025-04-05T15:37:12.859Z"
   },
   {
    "duration": 56,
    "start_time": "2025-04-05T15:37:12.881Z"
   },
   {
    "duration": 9,
    "start_time": "2025-04-05T15:37:12.939Z"
   },
   {
    "duration": 214,
    "start_time": "2025-04-05T15:37:12.950Z"
   },
   {
    "duration": 549,
    "start_time": "2025-04-05T15:37:13.166Z"
   },
   {
    "duration": 13,
    "start_time": "2025-04-05T15:37:13.717Z"
   },
   {
    "duration": 7,
    "start_time": "2025-04-05T15:37:13.733Z"
   },
   {
    "duration": 362,
    "start_time": "2025-04-05T15:37:13.742Z"
   },
   {
    "duration": 15,
    "start_time": "2025-04-05T15:37:56.107Z"
   },
   {
    "duration": 22,
    "start_time": "2025-04-05T15:38:15.724Z"
   },
   {
    "duration": 58,
    "start_time": "2025-04-05T15:38:30.030Z"
   },
   {
    "duration": 23,
    "start_time": "2025-04-05T15:38:58.803Z"
   },
   {
    "duration": 370,
    "start_time": "2025-04-05T15:39:12.967Z"
   },
   {
    "duration": 390,
    "start_time": "2025-04-05T15:39:36.823Z"
   },
   {
    "duration": 379,
    "start_time": "2025-04-05T15:39:47.550Z"
   },
   {
    "duration": 17,
    "start_time": "2025-04-05T15:46:47.109Z"
   },
   {
    "duration": 244,
    "start_time": "2025-04-05T15:52:01.533Z"
   },
   {
    "duration": 19,
    "start_time": "2025-04-05T16:16:03.626Z"
   },
   {
    "duration": 727,
    "start_time": "2025-04-05T16:16:26.441Z"
   },
   {
    "duration": 313,
    "start_time": "2025-04-05T16:17:12.678Z"
   },
   {
    "duration": 293,
    "start_time": "2025-04-05T16:17:49.632Z"
   },
   {
    "duration": 6,
    "start_time": "2025-04-05T16:29:27.718Z"
   },
   {
    "duration": 6,
    "start_time": "2025-04-05T16:29:28.417Z"
   },
   {
    "duration": 649,
    "start_time": "2025-04-05T16:29:29.209Z"
   },
   {
    "duration": 348,
    "start_time": "2025-04-05T16:30:07.335Z"
   },
   {
    "duration": 1184,
    "start_time": "2025-04-05T17:39:16.254Z"
   },
   {
    "duration": 15,
    "start_time": "2025-04-05T17:52:27.443Z"
   },
   {
    "duration": 16,
    "start_time": "2025-04-05T17:52:49.795Z"
   },
   {
    "duration": 82,
    "start_time": "2025-04-05T17:53:30.486Z"
   },
   {
    "duration": 371,
    "start_time": "2025-04-05T17:53:34.613Z"
   },
   {
    "duration": 35,
    "start_time": "2025-04-05T18:02:40.666Z"
   },
   {
    "duration": 55,
    "start_time": "2025-04-05T18:03:40.150Z"
   },
   {
    "duration": 17,
    "start_time": "2025-04-05T18:03:49.320Z"
   },
   {
    "duration": 36,
    "start_time": "2025-04-05T18:04:57.345Z"
   },
   {
    "duration": 15,
    "start_time": "2025-04-05T18:05:20.359Z"
   },
   {
    "duration": 34,
    "start_time": "2025-04-05T18:05:33.693Z"
   },
   {
    "duration": 12,
    "start_time": "2025-04-05T18:06:26.273Z"
   },
   {
    "duration": 10,
    "start_time": "2025-04-05T18:07:07.639Z"
   },
   {
    "duration": 9,
    "start_time": "2025-04-05T18:08:50.064Z"
   },
   {
    "duration": 16,
    "start_time": "2025-04-05T18:09:13.400Z"
   },
   {
    "duration": 8,
    "start_time": "2025-04-05T18:09:55.228Z"
   },
   {
    "duration": 356,
    "start_time": "2025-04-05T18:09:58.101Z"
   },
   {
    "duration": 122,
    "start_time": "2025-04-05T19:08:00.491Z"
   },
   {
    "duration": 344,
    "start_time": "2025-04-05T19:08:02.644Z"
   },
   {
    "duration": 150,
    "start_time": "2025-04-05T20:11:01.195Z"
   },
   {
    "duration": 292,
    "start_time": "2025-04-05T20:11:42.040Z"
   },
   {
    "duration": 132,
    "start_time": "2025-04-05T20:12:19.766Z"
   },
   {
    "duration": 130,
    "start_time": "2025-04-05T20:12:38.241Z"
   },
   {
    "duration": 132,
    "start_time": "2025-04-05T20:13:07.188Z"
   },
   {
    "duration": 126,
    "start_time": "2025-04-05T20:13:18.847Z"
   },
   {
    "duration": 123,
    "start_time": "2025-04-05T20:13:40.940Z"
   },
   {
    "duration": 125,
    "start_time": "2025-04-05T20:14:15.847Z"
   },
   {
    "duration": 138,
    "start_time": "2025-04-05T20:14:39.450Z"
   },
   {
    "duration": 141,
    "start_time": "2025-04-05T20:15:50.407Z"
   },
   {
    "duration": 48,
    "start_time": "2025-04-05T20:15:58.425Z"
   },
   {
    "duration": 340,
    "start_time": "2025-04-05T20:16:24.184Z"
   },
   {
    "duration": 74,
    "start_time": "2025-04-05T20:42:47.846Z"
   },
   {
    "duration": 2,
    "start_time": "2025-04-05T20:42:48.675Z"
   },
   {
    "duration": 4,
    "start_time": "2025-04-05T20:43:11.588Z"
   },
   {
    "duration": 1170,
    "start_time": "2025-04-05T20:45:40.475Z"
   },
   {
    "duration": 1601,
    "start_time": "2025-04-05T20:45:52.512Z"
   },
   {
    "duration": 4,
    "start_time": "2025-04-05T20:46:09.227Z"
   },
   {
    "duration": 241,
    "start_time": "2025-04-05T20:56:58.956Z"
   },
   {
    "duration": 259,
    "start_time": "2025-04-05T20:57:00.335Z"
   },
   {
    "duration": 216,
    "start_time": "2025-04-05T20:57:29.046Z"
   },
   {
    "duration": 354,
    "start_time": "2025-04-05T20:58:01.861Z"
   },
   {
    "duration": 9,
    "start_time": "2025-04-05T22:03:22.455Z"
   },
   {
    "duration": 11,
    "start_time": "2025-04-05T22:07:19.396Z"
   }
  ],
  "colab": {
   "provenance": []
  },
  "kernelspec": {
   "display_name": "Python 3",
   "language": "python",
   "name": "python3"
  },
  "language_info": {
   "codemirror_mode": {
    "name": "ipython",
    "version": 3
   },
   "file_extension": ".py",
   "mimetype": "text/x-python",
   "name": "python",
   "nbconvert_exporter": "python",
   "pygments_lexer": "ipython3",
   "version": "3.8.5"
  },
  "toc": {
   "base_numbering": 1,
   "nav_menu": {},
   "number_sections": true,
   "sideBar": true,
   "skip_h1_title": true,
   "title_cell": "Table of Contents",
   "title_sidebar": "Contents",
   "toc_cell": false,
   "toc_position": {},
   "toc_section_display": true,
   "toc_window_display": false
  },
  "vscode": {
   "interpreter": {
    "hash": "01a7be9ec63e704a62cefc5fe7a4756944464ee731be31632bdf42a4cb4688cf"
   }
  }
 },
 "nbformat": 4,
 "nbformat_minor": 5
}
